{
  "cells": [
    {
      "cell_type": "markdown",
      "metadata": {
        "id": "view-in-github",
        "colab_type": "text"
      },
      "source": [
        "<a href=\"https://colab.research.google.com/github/dchappell2/Computational-Physics/blob/main/Python_Tutorials/Chapter_10_2D_Plots_Part_1.ipynb\" target=\"_parent\"><img src=\"https://colab.research.google.com/assets/colab-badge.svg\" alt=\"Open In Colab\"/></a>"
      ]
    },
    {
      "cell_type": "markdown",
      "metadata": {
        "tags": [],
        "id": "X3M6mqZWelVu"
      },
      "source": [
        "<!--\n",
        "\n",
        "author:  David Chappell (Modified from Michelle P. Kuchera)\n",
        "created: June 16, 2022\n",
        "license: This code is released under the GNU GPL. Please feel free to use, modify, re-release at your will. You can not construct closed-source or proprietary software with this code. Please contact me (and Michelle) if this is your desire.\n",
        "\n",
        "-->\n",
        "\n",
        "#Chapter 10 - 2D Plots Part 1\n",
        "\n",
        "Goals:\n",
        "* Create simple 2D plots using the Matplotlib library's state machine interface\n",
        "* Modify plot symbols, colors, axes and labels\n",
        "\n",
        "\n"
      ]
    },
    {
      "cell_type": "markdown",
      "source": [
        "## 10.0 Matplotlib and Coding Philosophy\n",
        "\n",
        "The Python library Matplotlib offers two different approaches to plotting:\n",
        "* The \"state machine\" approach: which uses pyplot to mimick Matlab commands (best for simple plots, especially for programmers already familiar with Matlab)\n",
        "* The object-oriented approach (preferred by \"pythonic\" object-oriented programmers) that offers more control\n",
        "\n",
        "This chapter will only cover the state machine approach.\n",
        "\n",
        "An excellent overview of these approaches can be found at the following link and should be required reading for anyone plotting in Python: https://matplotlib.org/2.0.2/faq/usage_faq.html"
      ],
      "metadata": {
        "id": "7j_HnNPzFLZL"
      }
    },
    {
      "cell_type": "markdown",
      "metadata": {
        "tags": [],
        "id": "Tk9995MBelVw"
      },
      "source": [
        "## 10.1 Simple Plot\n",
        "\n",
        "We will use plotting commands in pyplot, a module within the Matplotlib library. To use this approach one typically imports matplotlib.pyplot as plt. This renames matplotlib.pyplot as simply `plt`, making it easier to work with.\n"
      ]
    },
    {
      "cell_type": "markdown",
      "source": [
        "### 🔆 Example:  Line Plot\n",
        "\n",
        "* We first import the pyplot module in the matplotlib library and give it the nickname plt\n",
        "* We then create a dataset to plot:  $y(x)=x(2-x)$\n",
        "* To plot y vs x, we simply use the command ```plt.plot(x,y)```\n",
        "* We then label the axes and give the plot a title\n",
        "* Finally, we use the command ``show`` to render the figure that we created."
      ],
      "metadata": {
        "id": "jAZsjQRnJAm7"
      }
    },
    {
      "cell_type": "code",
      "source": [
        "import matplotlib.pyplot as plt\n",
        "import numpy as np\n",
        "\n",
        "# define a numpy array of 300 x values from 0 to 50\n",
        "# we use 1e-16 as the lower limit to avo\n",
        "x = np.linspace(0, 2, 100)\n",
        "\n",
        "# y = downward-opening parabola\n",
        "y = x*(2-x)\n",
        "\n",
        "# plot three functions of x, and define labels for each in the legend\n",
        "plt.plot(x, y)\n",
        "\n",
        "plt.xlabel('x')             # label the x and y axes\n",
        "plt.ylabel('y')\n",
        "plt.title(\"Simple Plot\")    # give the plot a title\n",
        "\n",
        "plt.show()                  # display the plot"
      ],
      "metadata": {
        "id": "NTpo114MGaxh"
      },
      "execution_count": null,
      "outputs": []
    },
    {
      "cell_type": "markdown",
      "source": [
        "## 10.2 Changing line and marker style\n",
        "\n",
        "The line style can be modified in a few ways:  (1) color, (2) solid/dashed/etc and (3) thickness.\n",
        "\n",
        "**Color and Line Style**\n",
        "\n",
        "The simplest way of specifying the line style and color is to include a specification string like this:  'r-', which means create a solid red line.\n",
        "\n",
        "Here is a list of **color** specifications that can be included as a string:\n",
        "* `'r'` = red\n",
        "* `'g'` = green\n",
        "* `'b'` = blue\n",
        "* `'c'` = cyan\n",
        "* `'m'` = magenta\n",
        "* `'y'` = yellow\n",
        "* `'k'` = black\n",
        "* `'w'` = white\n",
        "\n",
        "Matplotlib has an extensive list of named colors like `'darkblue'`, `'plum'` and `'salmon'` in addition to being able to numerically specify the RGB (red, green, blue) components of any possible color. You can also adjust the transparency of the lines or markers. For more info see here: https://matplotlib.org/stable/gallery/color/named_colors.html and here:  https://matplotlib.org/stable/users/explain/colors/colors.html\n",
        "\n",
        "\n",
        "Here is a list of **line style** specifications that can be included as a string:\n",
        "* `'-' ` = solid line\n",
        "* `'--'` = dashed line\n",
        "* `':' ` = dotted line\n",
        "* `'-.'` = dash-dot line\n",
        "\n",
        "Here is a list of **marker style** specifications that can be included as a string:\n",
        "* `'o' ` = circle\n",
        "* `'s'` = square\n",
        "* `'+' ` = plus sign\n",
        "* `'x' ` = x\n",
        "* `'D' ` = diamond\n",
        "* `'^' ` = up triangle\n"
      ],
      "metadata": {
        "id": "-8TLZgCRZmhp"
      }
    },
    {
      "cell_type": "markdown",
      "source": [
        "### 🔆 Example: Line Style\n",
        "\n",
        "* Here's an example of a plot with a red, dashed line using the `'r--'` specification.\n",
        "* We also turn on a background grid using `plt.grid(True)`."
      ],
      "metadata": {
        "id": "u97ox5dcdR3o"
      }
    },
    {
      "cell_type": "code",
      "source": [
        "# run previous code cell to define x and y arrays\n",
        "\n",
        "plt.plot(x, y, 'r--')           # dashed red line\n",
        "\n",
        "plt.xlabel('x')                 # label the x and y axes\n",
        "plt.ylabel('y')\n",
        "plt.title(\"Dashed Red Line\")    # give the plot a title\n",
        "plt.grid(True)                  # turn on grid\n",
        "plt.show()                      # display the plot"
      ],
      "metadata": {
        "id": "bC0E8Cj6bwHk"
      },
      "execution_count": null,
      "outputs": []
    },
    {
      "cell_type": "markdown",
      "source": [
        "### ✅ Skill Check 1\n",
        "\n",
        "Create a plot of $y(x) = \\sin (x^2) $ for $0\\leq x \\leq 10$. Plot the curve as a solid blue line. How many data points do you need to create a smooth curve?"
      ],
      "metadata": {
        "id": "WC57jUopXDp0"
      }
    },
    {
      "cell_type": "code",
      "source": [
        "# your code here\n",
        "\n",
        "import matplotlib.pyplot as plt\n",
        "import numpy as np\n",
        "\n"
      ],
      "metadata": {
        "id": "Zu3uy9UDXC6T"
      },
      "execution_count": null,
      "outputs": []
    },
    {
      "cell_type": "markdown",
      "source": [
        "## 10.3 Changing Line Thickness or Marker Size\n",
        "\n",
        "* `'linewidth=2.0'` or `'lw=2.0'` sets the line width to 2 (line width of 1.5 is the default)\n",
        "* `'markersize=10'` or `'ms=10'` sets the marker size to 10 (the default value is  of 6)"
      ],
      "metadata": {
        "id": "gR5r0pP_i78X"
      }
    },
    {
      "cell_type": "markdown",
      "source": [
        "### 🔆 Example: Marker size\n",
        "\n",
        "Here's an example of a plot with small, green circle markers."
      ],
      "metadata": {
        "id": "1WZ4EC-Ekji_"
      }
    },
    {
      "cell_type": "code",
      "source": [
        "x = np.linspace(0, 2, 100)           # create data to plot\n",
        "y = x*(2-x)\n",
        "\n",
        "plt.plot(x, y, 'go', markersize=2)   # small, green circle markers\n",
        "\n",
        "plt.xlabel('x')                      # label the x and y axes\n",
        "plt.ylabel('y')\n",
        "plt.title(\"Circle Markers\")          # give the plot a title\n",
        "plt.show()                           # display the plot"
      ],
      "metadata": {
        "id": "Bh37KiP9kjjA"
      },
      "execution_count": null,
      "outputs": []
    },
    {
      "cell_type": "markdown",
      "source": [
        "## 10.4 Plotting Multiple Curves\n",
        "\n",
        "To plot multiple curves, we can just call the plot command multiple times before the `show()` command is called."
      ],
      "metadata": {
        "id": "-VD6m9hxmQZi"
      }
    },
    {
      "cell_type": "markdown",
      "source": [
        "### 🔆 Example:  3 curves on one plot\n",
        "\n",
        "This example plots a linear, quadratic and cubic function on the same graph.\n",
        "* Notice that Matplotlib automatically changes the color of each successive curve, if no color specification is given.\n",
        "* We create a legend with the `plt.legend()` command\n",
        "* The legend command labels each curve based on the `label` specification given in the plot command (see below)."
      ],
      "metadata": {
        "id": "WrveoTVzmv6a"
      }
    },
    {
      "cell_type": "code",
      "execution_count": null,
      "metadata": {
        "jp-MarkdownHeadingCollapsed": true,
        "tags": [],
        "id": "WS20aIBcelVw"
      },
      "outputs": [],
      "source": [
        "import matplotlib.pyplot as plt\n",
        "import numpy as np\n",
        "\n",
        "# define a numpy array of 100 x values from 0 to 2\n",
        "x = np.linspace(0, 2, 100)\n",
        "\n",
        "# plot three functions of x, and define labels for each in the legend\n",
        "plt.plot(x, x,    label='linear')\n",
        "plt.plot(x, x**2, label='quadratic')\n",
        "plt.plot(x, x**3, label='cubic')\n",
        "\n",
        "plt.xlabel('x')             # label the x and y axes\n",
        "plt.ylabel('y')\n",
        "plt.title(\"Three Curves\")   # give the plot a title\n",
        "\n",
        "plt.legend()                # display the legend\n",
        "\n",
        "plt.show()                  # display the plot"
      ]
    },
    {
      "cell_type": "markdown",
      "source": [
        "### 🔆 Example:  Plotting a theoretical curve through data points\n",
        "\n",
        "Often, when you have experimental data points and a theoretical prediction, the data points are plotted at points (i.e. markers) and the theoretical prediction as a curve.\n",
        "\n",
        "Here's an example where we generate some synthetic data points using the random number generator and plot the theoretical curve with a solid line."
      ],
      "metadata": {
        "id": "-VXnPEB7pKDm"
      }
    },
    {
      "cell_type": "code",
      "source": [
        "\n",
        "N = 200\n",
        "\n",
        "# create array of time values\n",
        "t = np.linspace(0,2,N)\n",
        "\n",
        "# Create synthetic data\n",
        "rng = np.random.default_rng()\n",
        "z = rng.normal(size=N)\n",
        "data = 0.1*z + np.sqrt(t)\n",
        "\n",
        "# define a theoretical curve\n",
        "y = np.sqrt(t)\n",
        "\n",
        "# plot three functions of x, and define labels for each in the legend\n",
        "plt.plot(t, data, 'bo', ms=3,   label='data')\n",
        "plt.plot(t, y, 'r-', label='theory')\n",
        "\n",
        "plt.xlabel('t')                      # label the x and y axes\n",
        "plt.ylabel('y')\n",
        "plt.title(\"Theory and Experiment\")   # give the plot a title\n",
        "\n",
        "plt.legend()                # display the legend\n",
        "plt.show()                  # display the plot"
      ],
      "metadata": {
        "id": "Z7cyv2m2pehS"
      },
      "execution_count": null,
      "outputs": []
    },
    {
      "cell_type": "markdown",
      "source": [],
      "metadata": {
        "id": "fV1vqrVkKk3x"
      }
    },
    {
      "cell_type": "markdown",
      "source": [
        "### 🔆 Example:  Plotting data points with error bars\n",
        "\n",
        "If you have estimates of the errors of your measured data points, you can draw error bars with the `plt.errorbar()` function. Here's an example of the syntax:  `plt.errorbar(x, y, yerr=y_err, fmt='o', capsize=3, label='data')`\n",
        "\n",
        "* `x,y` = arrays for the x and y values\n",
        "* `yerr=y_err` The variable `y_err` is either a single value if all data points have the same error, or an array the same length as `x` and `y` if the data points have different errors. You can plot horizontal error bars by using `xerr=`.\n",
        "* `fmt='o'` is the format for the markers\n",
        "* `capsize=3` is the size of the end caps on the error bars\n",
        "* `label='data'` is the label displayed in the legend\n",
        "\n",
        "The following example adds error bars to the previous example."
      ],
      "metadata": {
        "id": "M7EooQZXKlWu"
      }
    },
    {
      "cell_type": "code",
      "source": [
        "N = 20\n",
        "\n",
        "y_err = 0.1   # error bar\n",
        "\n",
        "# create array of time values\n",
        "t = np.linspace(0,2,N)\n",
        "\n",
        "# Create synthetic data\n",
        "rng = np.random.default_rng()\n",
        "z = rng.normal(size=N)\n",
        "data = 0.1*z + np.sqrt(t)\n",
        "\n",
        "# define a theoretical curve\n",
        "y = np.sqrt(t)\n",
        "\n",
        "# We replace the plt.plot() command with plt.errorbar() do display error bars\n",
        "plt.errorbar(t, data, yerr=y_err, fmt='o', capsize=3, label='data')\n",
        "plt.plot(t, y, 'r-', label='theory')\n",
        "\n",
        "plt.xlabel('t')\n",
        "plt.ylabel('y')\n",
        "plt.title(\"Theory and Experiment with error bars\")\n",
        "\n",
        "plt.legend()                # display the legend\n",
        "plt.show()                  # display the plot"
      ],
      "metadata": {
        "id": "LwNkgee5LF0d"
      },
      "execution_count": null,
      "outputs": []
    },
    {
      "cell_type": "markdown",
      "source": [
        "### ✅ Skill Check 2\n",
        "\n",
        "Copy over your function from Chapter 9, that creates a noisy sine wave. Use the noisy sine wave function to create a noisy data data set with:\n",
        "* signal-to-noise ratio (SNR) = 5\n",
        "* 100 data points\n",
        "* max time = 2\n",
        "* Period = 1\n",
        "* Amplitude = 1\n",
        "\n",
        "Code specifications:\n",
        "* Plot the data points generated above with markers (your choice)\n",
        "* Overlay a theoretical $\\sin()$ curve with Amplitude = 1 and Period = 1.\n",
        "* Choose marker and line colors and styles to show both clearly.\n",
        "* Create a legend labeling the data and the theoretical curve.\n",
        "* Label the axes and give the plot a title."
      ],
      "metadata": {
        "id": "9-DZ6bwestla"
      }
    },
    {
      "cell_type": "code",
      "source": [
        "# your code here"
      ],
      "metadata": {
        "id": "bGRT84UW5m3c"
      },
      "execution_count": null,
      "outputs": []
    },
    {
      "cell_type": "markdown",
      "source": [
        "### ✅ Skill Check 3\n",
        "\n",
        "When two sine waves with almost the same frequencies are added together, the result is the phenomena of beats. We'll assume each wave has the same amplitude and phase. Here's the sum of the two sine waves:\n",
        "\n",
        "$$y(t) = \\sin(\\omega_1 t) + \\sin(\\omega_2 t)$$\n",
        "\n",
        "The result is a sine wave whose amplitude is modulated with a cosine wave. The modulating cosine wave will have an amplitude of twice the component waves:\n",
        "\n",
        "$$y_{envelope} = 2 \\cos(\\omega_3 t)$$\n",
        "\n",
        "where $\\omega_3 = |\\omega_2-\\omega_1|/2$.\n",
        "\n",
        "* Plot the sum of the two waves $y(t)$ where $\\omega_1 = 10$ and $\\omega_2 = 11$.\n",
        "* Plot a second curve on the same graph showing the modulating envelope. Use a dashed or dotted line.\n",
        "* Adjust the maximum time so that at leas two full beats are shown.\n",
        "* create a legend and label the curves appropriately.\n",
        "* Does the envelope match the amplitude variations?"
      ],
      "metadata": {
        "id": "bGAs76WL5f4s"
      }
    },
    {
      "cell_type": "code",
      "source": [
        "import matplotlib.pyplot as plt\n",
        "import numpy as np\n",
        "\n",
        "# your code here\n"
      ],
      "metadata": {
        "id": "Ejz9n8la5oy7"
      },
      "execution_count": null,
      "outputs": []
    },
    {
      "cell_type": "markdown",
      "metadata": {
        "tags": [],
        "id": "GlmdhzTCelVy"
      },
      "source": [
        "## 10.5 Multiple plots on one page\n",
        "\n",
        "The `subplot(n,m,k)` command can be used to create a grid of subplots where:\n",
        "* n = number of rows in the grid\n",
        "* m = number of columns in the grid\n",
        "* k = plot number (obtained by counting from the top left, corner rightward along each row). k starts counting from 1 (not 0)\n",
        "\n",
        "The `plt.tight_layout()` command reduces the margins around the subplots.\n"
      ]
    },
    {
      "cell_type": "markdown",
      "source": [
        "### 🔆 Example:  Subplots\n",
        "\n",
        "In this example, we plot a sine curve in the upper plot and a cosine curve in the lower plot.\n",
        "* `plt.subplot(2,1,1)` says create a grid of 2 rows, 1 column and plot in the first position (i.e. top plot).\n",
        "* `plt.subplot(2,1,2)` says create a grid of 2 rows, 1 column and plot in the second position (i.e. lower plot).\n"
      ],
      "metadata": {
        "id": "hB4hoxjpuMhW"
      }
    },
    {
      "cell_type": "code",
      "execution_count": null,
      "metadata": {
        "tags": [],
        "id": "CO1lP5ooG3Ul"
      },
      "outputs": [],
      "source": [
        "import matplotlib.pyplot as plt\n",
        "import numpy as np\n",
        "\n",
        "# define a numpy array of 200 values from 0 to 2\n",
        "x = np.linspace(0, 20, 300)\n",
        "\n",
        "# top plot\n",
        "y = np.sin(x)\n",
        "plt.subplot(2,1,1)     # 2 rows, 1 column, plot # 1\n",
        "plt.plot(x,y)\n",
        "plt.xlabel('x')\n",
        "plt.ylabel('y')\n",
        "plt.title('sin(x)')\n",
        "\n",
        "# lower plot\n",
        "y = np.cos(x)\n",
        "plt.subplot(2,1,2)     # 2 rows, 1 column, plot # 2\n",
        "plt.plot(x,y)\n",
        "plt.xlabel('x')\n",
        "plt.ylabel('y')\n",
        "plt.title('cos(x)')\n",
        "\n",
        "plt.tight_layout()     # reduce margins around the subplots\n",
        "plt.show()"
      ]
    },
    {
      "cell_type": "markdown",
      "source": [
        "### 🔆 Example:  More Subplots\n",
        "\n",
        "We extend the previous example in several ways:\n",
        "* We create a loop to generate 6 subplots\n",
        "* We create a function to do the plotting, which is called inside the loop. This keeps the loop nice and simple and makest the code easier to follow.\n",
        "* We shade beneath each curve using the `plt.fill_between()` function\n",
        "* Notice we use an f-string to title each subplot with the number of \"modes\" or half-wavelengths plotted."
      ],
      "metadata": {
        "id": "s1PQ_JdkvV3z"
      }
    },
    {
      "cell_type": "code",
      "execution_count": null,
      "metadata": {
        "tags": [],
        "id": "C-T7BEwXelVz"
      },
      "outputs": [],
      "source": [
        "import matplotlib.pyplot as plt\n",
        "import numpy as np\n",
        "\n",
        "# create a function to plot\n",
        "def plot_func(x,y,title):\n",
        "    plt.plot(x,y,'b-',lw=.5)\n",
        "    plt.fill_between(x, y, 0, color='lightblue', alpha=0.5)   # shade under curve\n",
        "    plt.xlabel('x')\n",
        "    plt.ylabel('y')\n",
        "    plt.title(title)\n",
        "\n",
        "# define a numpy array of 300 values from 0 to 1\n",
        "L = 1\n",
        "x = np.linspace(0, L, 300)\n",
        "\n",
        "# Loop to create a grid of 6 subplots\n",
        "for k in range(1,7):\n",
        "    P = 2*L/k\n",
        "    y = np.sin(2*np.pi*x/P)\n",
        "    plt.subplot(2,3,k)         # create a 2x3 grid and place each subplot accordingly\n",
        "    plot_func(x,y,f\"n = {k}\")  # label each subplot with number of modes\n",
        "\n",
        "plt.tight_layout()\n",
        "plt.show()"
      ]
    },
    {
      "cell_type": "markdown",
      "source": [
        "## 10.6 Adjusting the Figure Size\n",
        "\n",
        "Sometimes you might want to change the size or aspect ratio of the plot to fit the data being plotted.\n",
        "* `plt.figure(figsize=(width,height))` creates a figure with a specified width and height (in inches).\n",
        "* The default values are `width=6.4` inches and `height=4.8` inches.\n"
      ],
      "metadata": {
        "id": "RtUa036Xx3Py"
      }
    },
    {
      "cell_type": "markdown",
      "source": [
        "### 🔆 Example:  Custom Aspect Ratio\n",
        "\n",
        "Lets plot a sine wave with lots of periods. We'll want a long figure to match the data:"
      ],
      "metadata": {
        "id": "1N7Z9KiDzdu8"
      }
    },
    {
      "cell_type": "code",
      "source": [
        "import matplotlib.pyplot as plt\n",
        "import numpy as np\n",
        "\n",
        "# define a numpy array of 200 values from 0 to 2\n",
        "x = np.linspace(0, 100, 300)\n",
        "y = np.sin(x)\n",
        "\n",
        "plt.figure(figsize=(10,1.5))       # create figure with custom size\n",
        "plt.plot(x,y)\n",
        "plt.xlabel('x')\n",
        "plt.ylabel('y')\n",
        "plt.title('Custom Aspect Ratio')\n",
        "\n",
        "plt.show()"
      ],
      "metadata": {
        "id": "HXjOtGNJzyhJ"
      },
      "execution_count": null,
      "outputs": []
    },
    {
      "cell_type": "markdown",
      "source": [
        "## 10.7 Plot limits\n",
        "\n",
        "Matplotlib usually does a good job of setting the plot limits to reasonable values. However, you can also set the limits manually. For example, notice there's space before and after the sine wave above. If you want to remove that space, you can set the plot limits to 0 and 100.\n",
        "\n",
        "* `plt.xlim(xmin,xmax)` sets the limits on the horizontal axis to `xmin` and `xmax`.\n",
        "* `plt.ylim(ymin,ymax)` sets the limits on the horizontal axis to `ymin` and `ymax`.\n",
        "\n",
        "If you want to ensure that the scaling in the x and y directions is the same, you can use `plt.axis('equal')`. An example of this is shown in the next section."
      ],
      "metadata": {
        "id": "NgaObrAI1NP_"
      }
    },
    {
      "cell_type": "code",
      "source": [
        "# define a numpy array of 200 values from 0 to 2\n",
        "x = np.linspace(0, 100, 300)\n",
        "y = np.sin(x)\n",
        "\n",
        "plt.figure(figsize=(10,1.5))       # create figure with custom size\n",
        "plt.plot(x,y)\n",
        "plt.xlim(0,100)       # adjust x limits\n",
        "plt.ylim(-1.5,1.5)    # adjust y limits\n",
        "plt.xlabel('x')\n",
        "plt.ylabel('y')\n",
        "plt.title('Custom Plot Limits')\n",
        "\n",
        "plt.show()"
      ],
      "metadata": {
        "id": "5t0EStBe1M5x"
      },
      "execution_count": null,
      "outputs": []
    },
    {
      "cell_type": "markdown",
      "source": [
        "## 10.8 Parametric Plots\n",
        "\n",
        "Rather than plotting $y(x)$ or $x(t)$, it is sometimes useful to plot $y(t)$ vs. $x(t)$, where both the $x$ and $y$ coordinates depend on a third variable $t$. The following shows an example\n"
      ],
      "metadata": {
        "id": "z_GjDJAH29oB"
      }
    },
    {
      "cell_type": "markdown",
      "source": [
        "### 🔆 Example: Lissajous Figure\n",
        "\n",
        "Lissajous figures are patterns where two sinusoidal (AC) signals with different frequencies $\\omega_1$ and $\\omega_2$ are fed into the x and y channels of an oscilloscope. If the frequencies can be expressed as a simple ratio, i.e 2:1, 3:2, etc. then the patterns form simple, closed solutions. Here are the equations:\n",
        "* $x(t) = \\sin(\\omega_1 t + \\phi_0)$\n",
        "* $y(t) = \\sin(\\omega_2 t)$\n",
        "\n",
        "where the angular frequences $\\omega_1 / \\omega_2 = n/m$ can be expressed as a ratio of two integers $n$ and $m$. $\\phi_0$ is a phase constant between the two signals.\n",
        "\n",
        "The following example shows a Lissajous figure for $\\omega_1 / \\omega_2 = 2$ with $\\phi_0 = 0$.\n",
        "\n",
        "Notes:  \n",
        "* We do some fancy formatting that combines f-strings with raw r-strings to display  LaTeX equations and variable values in the title.\n",
        "* We also turn off the tick labels, since we just care about the shape of the Lissajous figures and not quantitative values. We do this with the commands `plt.xticks([])` and `plt.xticks([])`."
      ],
      "metadata": {
        "id": "AuFWAfHX4-e4"
      }
    },
    {
      "cell_type": "code",
      "source": [
        "# define x and y as a function of the independent variable t\n",
        "t = np.linspace(0, 2*np.pi, 300)\n",
        "\n",
        "omega_1 = 1    # angular frequency of signal 1\n",
        "omega_2 = 2    # angular frequency of signal 2\n",
        "phi0 = 0      # phase difference\n",
        "\n",
        "x = np.sin(omega_1 * t + phi0)\n",
        "y = np.sin(omega_2 * t)\n",
        "\n",
        "plt.figure(figsize=(5,5))\n",
        "plt.plot(x,y)\n",
        "\n",
        "# ensure x and y axes have same scaling\n",
        "plt.axis('equal')\n",
        "\n",
        "plt.xticks([])        # hide tick marks\n",
        "plt.yticks([])\n",
        "\n",
        "# fancy method to display frequency ratio and phase shift in degrees\n",
        "phi0_deg = np.rad2deg(phi0)\n",
        "plt.title(rf'{omega_1}:{omega_2}   $\\phi_0$ = {phi0_deg:.0f}$^\\circ$')\n",
        "\n",
        "plt.show()"
      ],
      "metadata": {
        "id": "wkQ8mk-k28c6"
      },
      "execution_count": null,
      "outputs": []
    },
    {
      "cell_type": "markdown",
      "source": [
        "### ✅ Skill Check 4\n",
        "\n",
        "Create a matrix of subplots that display Lissajous patterns for different frequency ratios $\\omega_1/\\omega_2$ and phase shifts $\\phi_0$. Here are the specs:\n",
        "* Each row of plots should have a given frequency ratio\n",
        "* Each column of plots should have a given phase shift\n",
        "* The following Code Cell has arrays that define the frequencies and phase shifts.\n",
        "* Write code to produce a matrix of Lissajous plots given the `omega_1`, `omega_2` and `phi0` arrays. Your code should be flexible so that if you change the number of elements in each array, it will automatically create the right number of plots. I.e. since `omega_1` has 4 elements and `phi_0` has 3 elements, your code should produce a total of 12 plots (4 rows and 3 columns).\n",
        "* You may need to experiment with the maximum time value so that you render the entire figure (without cutting it off)\n",
        "* Adjust the figure size so that the subplots are well-spaced and legible."
      ],
      "metadata": {
        "id": "XUeQ38_-__9e"
      }
    },
    {
      "cell_type": "code",
      "source": [
        "\n",
        "phase = [0, np.pi/3, np.pi/2]   # phase offset\n",
        "\n",
        "omega_1 = [1, 1, 2, 2, 3]       # angular frequency of signal 1\n",
        "omega_2 = [1, 2, 1, 3, 4]       # angular frequency of signal 2\n",
        "\n",
        "# your code here"
      ],
      "metadata": {
        "id": "GvNwoc6n5QDN"
      },
      "execution_count": null,
      "outputs": []
    },
    {
      "cell_type": "markdown",
      "source": [
        "## 10.9 Saving your plot to a file\n",
        "\n",
        "You may want to save your file to include in a paper, report or presentation. The Matplotlib command `plt.savefig()` lets you save it in a variety of formats. You just need to specify the correct extension:\n",
        "* `plt.savefig('my_fig.pdf',dpi=300)`  saves as a pdf file\n",
        "* `plt.savefig('my_fig.png',dpi=300)`  saves as a png file (lossless, best for most plots)\n",
        "* `plt.savefig('my_fig.jpg',dpi=300)`  saves as a jpeg (smaller file size, but lower quality)\n",
        "* `plt.savefig('my_fig.tiff',dpi=300)`  saves as a tiff file (higher quality but still lossy)\n",
        "\n",
        "In each example, we specify the file resolution as 300 dpi, which is recommended for publication-quality plots. You can adjust the size of the plot in inches using the `plt.figure(figsize=())` command.\n",
        "\n",
        "* The `plt.savefig()` command must come before `plt.show()`\n",
        "* If you are running code in Google Colab and you want to download your figure to your computer, you can run the following after the `plt.savefig()` command:\n",
        "```\n",
        "from google.colab import files\n",
        "files.download(\"sine_wave.pdf\")\n",
        "```"
      ],
      "metadata": {
        "id": "jvtXd01sDxOg"
      }
    },
    {
      "cell_type": "markdown",
      "source": [
        "### 🔆 Example:  Saving a figure"
      ],
      "metadata": {
        "id": "yFslxa4QF5wA"
      }
    },
    {
      "cell_type": "code",
      "source": [
        "import matplotlib.pyplot as plt\n",
        "import numpy as np\n",
        "from google.colab import files\n",
        "\n",
        "plt.figure(figsize=(6,4))       # create figure with custom size\n",
        "\n",
        "# Create a simple plot\n",
        "x = np.linspace(0, 2*np.pi, 300)\n",
        "plt.plot(x,np.sin(x))\n",
        "plt.xlabel('x')\n",
        "plt.ylabel('y')\n",
        "plt.title('Example:  Save to File')\n",
        "\n",
        "# save figure to your computer\n",
        "plt.savefig('my_fig.png',dpi=300)   # creates the file in your local directory\n",
        "files.download(\"my_fig.png\")        # downloads file from Google to your computer\n",
        "\n",
        "plt.show()                          # this must come after plt.savefig()\n",
        "\n"
      ],
      "metadata": {
        "id": "pp5s0AgtGoy1"
      },
      "execution_count": null,
      "outputs": []
    },
    {
      "cell_type": "markdown",
      "source": [
        "### ✅ Skill Check 5\n",
        "\n",
        "Include commands in Skill Check 4 to save the plot as a .png file. Make sure you are able to save it onto your computer."
      ],
      "metadata": {
        "id": "1AFM0kpN2Tm6"
      }
    },
    {
      "cell_type": "markdown",
      "source": [
        "## 10.10 Additional Plot Commands\n",
        "\n",
        "Here are some additional plot commands. You can look up more info on their syntax using the links below.\n",
        "\n",
        "```\n",
        "plt.loglog(x,y)     # log-log plot\n",
        "plt.semilogx(x,y)   # log-linear plot\n",
        "plt.bar(x,y)        # bar plot\n",
        "plt.polar(phi,r)    # polar plot\n",
        "plt.hist(y)         # histogram plot\n",
        "```"
      ],
      "metadata": {
        "id": "keSHvf3228Wt"
      }
    },
    {
      "cell_type": "markdown",
      "metadata": {
        "id": "UpXOLnbXelV0"
      },
      "source": [
        "\n",
        "## 10.10 Resources\n",
        "Now you know the basics of plotting with Matplotlib. Here are a few resources to learn more:\n",
        "* Matplotlib overview of plot types:  https://matplotlib.org/stable/plot_types/index.html\n",
        "* Excellent tutorial on pyplot (state machine approach) that describes how to plot different types of lines, markers, etc.:  https://matplotlib.org/stable/tutorials/introductory/pyplot.html#sphx-glr-tutorials-introductory-pyplot-py\n",
        "* Matplotlib tutorial on state machine vs object oriented programming:  https://matplotlib.org/2.0.2/faq/usage_faq.html\n",
        "* Tutorial on object-oriented programming for chemists:  https://pythoninchemistry.org/intro_python_chemists/basics/oop_intro.html\n",
        "* There is a pdf document on Google Drive titled \"subplot_or_subplots.pdf\" thatis a good read\n",
        "\n",
        "\n"
      ]
    }
  ],
  "metadata": {
    "anaconda-cloud": {},
    "kernelspec": {
      "display_name": "Python 3 (ipykernel)",
      "language": "python",
      "name": "python3"
    },
    "language_info": {
      "codemirror_mode": {
        "name": "ipython",
        "version": 3
      },
      "file_extension": ".py",
      "mimetype": "text/x-python",
      "name": "python",
      "nbconvert_exporter": "python",
      "pygments_lexer": "ipython3",
      "version": "3.9.12"
    },
    "colab": {
      "provenance": [],
      "toc_visible": true,
      "include_colab_link": true
    }
  },
  "nbformat": 4,
  "nbformat_minor": 0
}