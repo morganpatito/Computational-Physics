{
  "nbformat": 4,
  "nbformat_minor": 0,
  "metadata": {
    "colab": {
      "provenance": [],
      "toc_visible": true,
      "authorship_tag": "ABX9TyMJ3Pgg/qITFORt0Hgh+1a1",
      "include_colab_link": true
    },
    "kernelspec": {
      "name": "python3",
      "display_name": "Python 3"
    },
    "language_info": {
      "name": "python"
    }
  },
  "cells": [
    {
      "cell_type": "markdown",
      "metadata": {
        "id": "view-in-github",
        "colab_type": "text"
      },
      "source": [
        "<a href=\"https://colab.research.google.com/github/dchappell2/Computational-Physics/blob/main/ode_1.ipynb\" target=\"_parent\"><img src=\"https://colab.research.google.com/assets/colab-badge.svg\" alt=\"Open In Colab\"/></a>"
      ]
    },
    {
      "cell_type": "markdown",
      "source": [
        "# Euler's Method for Solving Ordinary Differential Equations (ODEs)"
      ],
      "metadata": {
        "id": "KqSw-oNR8UYP"
      }
    },
    {
      "cell_type": "markdown",
      "source": [
        "## Euler's Method for First-Order ODE's\n",
        "\n",
        "We developed the ideas behind Euler's method in the lecuture slides. As an overview, suppose we want to solve the following first-order ODE:\n",
        "$$ \\frac{dy}{dt} = f(y), $$\n",
        "\n",
        "where $f(y)$ is some function of our variable $y$.\n",
        "\n",
        "The Euler update rule for $y$ is a result of replacing the derivative with its discrete approximation $\\frac{\\Delta y}{\\Delta t} \\approx f(y)$. The Euler update rule is given by\n",
        "$$ y_{n+1} = y_n + f(y) \\Delta t.$$\n",
        "\n",
        "The update rule for time is simply:\n",
        "$$ t_{n+1} = t_n +t \\Delta t.$$\n",
        "\n"
      ],
      "metadata": {
        "id": "KZGnAIl_PitF"
      }
    },
    {
      "cell_type": "markdown",
      "source": [
        "### 🔆 Example:  Constant Velocity Motion\n",
        "\n",
        "This is a very simpl example. The equation for constant velocity motion is given by\n",
        "$$ \\frac{dx}{dt} = v$$\n",
        "\n",
        "where $v=$ the velocity. This formula is the simplest possible ODE. The solution is equation can be easily integrated with solution\n",
        "$$x_{exact}(t) = x_0+vt.$$\n",
        "\n",
        "Here's some Python code to implement the Euler rule:"
      ],
      "metadata": {
        "id": "nh3vmLi-gbBZ"
      }
    },
    {
      "cell_type": "code",
      "source": [
        "import numpy as np\n",
        "import matplotlib.pyplot as plt\n",
        "\n",
        "#########  Parameters  #########\n",
        "\n",
        "v    = 10             # velocity\n",
        "tmax = 10             # maximum time\n",
        "dt   = 2              # time step\n",
        "x0   = 10             # initial value of x\n",
        "\n",
        "\n",
        "#########  Create Arrays  #########\n",
        "\n",
        "N = int(tmax/dt)+1    # number of steps in simulation\n",
        "\n",
        "x = np.zeros(N)       # array to store positions\n",
        "t = np.zeros(N)       # array to store times\n",
        "\n",
        "x[0] = x0             # assign initial value\n",
        "\n",
        "#########  Loop to implement the Euler update rule  #########\n",
        "\n",
        "for n in range(N-1):\n",
        "    x[n+1] = x[n] + v*dt   # Euler update rule for position\n",
        "    t[n+1] = t[n] + dt     # update time\n",
        "\n",
        "\n",
        "#########  Analytic Solution  #########\n",
        "\n",
        "x_true = x0 + v*t\n",
        "\n",
        "\n",
        "#########  Plot Solution  #########\n",
        "\n",
        "plt.plot(t, x, 'ro', label='Euler')\n",
        "plt.plot(t, x_true, 'b--', label='Analytic')\n",
        "\n",
        "plt.xlabel('t (s)')                   # label the x and y axes\n",
        "plt.ylabel('x (m)')\n",
        "plt.title(\"Constant Velocity Motion\") # give the plot a title\n",
        "plt.legend()                          # display the legend\n",
        "plt.show()                            # display the plot"
      ],
      "metadata": {
        "colab": {
          "base_uri": "https://localhost:8080/",
          "height": 472
        },
        "id": "NXPN6zs7g_Ub",
        "outputId": "7fd42ddb-42db-4b05-896a-c449a9276347"
      },
      "execution_count": 1,
      "outputs": [
        {
          "output_type": "display_data",
          "data": {
            "text/plain": [
              "<Figure size 640x480 with 1 Axes>"
            ],
            "image/png": "[encoded data removed]"
          },
          "metadata": {}
        }
      ]
    },
    {
      "cell_type": "markdown",
      "source": [
        "### 🔆 Example:  Exponential Growth\n",
        "\n",
        "The equation for exponential growth or decay is given by\n",
        "$$ \\frac{dy}{dt} = ay,$$\n",
        "\n",
        "where $a=$ the growth (or decay) rate. This formula is of the form of our first-order ODE above wehre $f(y) = ay$. This equation can be easily integrated with solution\n",
        "$$y(t) = y_0 e^{at}.$$\n",
        "\n",
        "If $a>0$ the quantity $y$ blows up exponentially and if $a<0$ it decays to zero.\n",
        "\n",
        "Here's some Python code to implement the Euler rule:\n",
        "\n"
      ],
      "metadata": {
        "id": "rqyu6XTh8nrY"
      }
    },
    {
      "cell_type": "code",
      "source": [
        "import numpy as np\n",
        "import matplotlib.pyplot as plt\n",
        "\n",
        "#########  Parameters  #########\n",
        "\n",
        "a    = 0.2            # decay constant\n",
        "tmax = 10             # maximum time\n",
        "dt   = 1              # time step\n",
        "y0   = 1              # initial value of y\n",
        "\n",
        "\n",
        "#########  Create Arrays  #########\n",
        "\n",
        "N = int(tmax/dt)+1    # number of steps in simulation\n",
        "\n",
        "y = np.zeros(N)       # array to store y values\n",
        "t = np.zeros(N)       # array to store times\n",
        "\n",
        "y[0] = y0             # assign initial value\n",
        "\n",
        "\n",
        "#########  Loop to implement the Euler update rule  #########\n",
        "\n",
        "for n in range(N-1):\n",
        "    y[n+1] = y[n] + a*y[n]*dt\n",
        "    t[n+1] = t[n] + dt\n",
        "\n",
        "\n",
        "#########  Analytic Solution  #########\n",
        "\n",
        "y_true = y0 * np.exp(a*t)\n",
        "\n",
        "\n",
        "#########  Plot Solution  #########\n",
        "\n",
        "plt.plot(t, y, label='Euler')\n",
        "plt.plot(t, y_true, '--', label='Analytic')\n",
        "\n",
        "plt.xlabel('t')                  # label the x and y axes\n",
        "plt.ylabel('y')\n",
        "plt.title(\"Exponential Growth\")  # give the plot a title\n",
        "plt.legend()                     # display the legend\n",
        "plt.show()                       # display the plot"
      ],
      "metadata": {
        "colab": {
          "base_uri": "https://localhost:8080/",
          "height": 472
        },
        "id": "11iy9t7KRssg",
        "outputId": "30d8af0e-ba02-4f7a-9718-735f4c953427"
      },
      "execution_count": null,
      "outputs": [
        {
          "output_type": "display_data",
          "data": {
            "text/plain": [
              "<Figure size 640x480 with 1 Axes>"
            ],
            "image/png": "[encoded data removed]"
          },
          "metadata": {}
        }
      ]
    },
    {
      "cell_type": "markdown",
      "source": [
        "### ✅ Skill Check 1\n",
        "\n",
        "Plot the percent error produced by Euler's method using the formula\n",
        "$$percent\\; error=\\frac{|y-y_{analytic}|}{y_{analytic}}\\times 100\\%$$\n",
        "\n",
        "Label your axes and give the plot a title"
      ],
      "metadata": {
        "id": "MbIrFb05jwHj"
      }
    },
    {
      "cell_type": "code",
      "execution_count": null,
      "metadata": {
        "id": "lzvGVo698SK4"
      },
      "outputs": [],
      "source": [
        "# your code here"
      ]
    },
    {
      "cell_type": "markdown",
      "source": [
        "### ✅ Skill Check 2\n",
        "\n",
        "Imagine numerically integrating an exponential decay problem where the growth rate $a<0$.\n",
        "* Without running any code, describe what you think the time-dependent solution will look like\n",
        "* Do you think the relative error will increase or decrease with time? Why?\n",
        "* Copy your code below and run it for $a=-0.2$.\n",
        "* Describe your results"
      ],
      "metadata": {
        "id": "ZpvsnXURBMhx"
      }
    },
    {
      "cell_type": "markdown",
      "source": [
        "***** your answers here *****"
      ],
      "metadata": {
        "id": "qLekCXTTFrLy"
      }
    },
    {
      "cell_type": "code",
      "source": [
        "# your code here"
      ],
      "metadata": {
        "id": "j8AjnTANCTPO"
      },
      "execution_count": null,
      "outputs": []
    },
    {
      "cell_type": "markdown",
      "source": [
        "### ✅ Skill Check 3\n",
        "\n",
        "* Convert the numerical integration code above into a fuction that returns the percent error on the **final time step** of the integration. Your function should take one parameter:  the time step dt. All other parameters should be defined inside the function.\n",
        "* Create a loop that calls your function for the following time steps:          $1, 10^{-1}, 10^{-2}, 10^{-3}, 10^{-4}, 10^{-5}, 10^{-6}$. All other parameters should be the same as those in the code for the first example. If you want to be super fancy you can use the NumPy command `logspace()` to produce the desired values (Google or chatGPT the command for details).\n",
        "* Create a log-log plot showing  log(error) vs. log(dt)\n",
        "* Label your graph appropriately\n",
        "* If your code gets hung up and takes too long to run, you can try omitting the smallest time step.\n",
        "* Describe the error plot. Is this what you would expet for a first-order integration scheme?"
      ],
      "metadata": {
        "id": "nOMk-pkxsYQk"
      }
    },
    {
      "cell_type": "code",
      "source": [
        "import numpy as np\n",
        "import matplotlib.pyplot as plt\n",
        "\n",
        "# your code here\n",
        "\n",
        "\n",
        "\n"
      ],
      "metadata": {
        "id": "fVcBn6t_qK0o"
      },
      "execution_count": null,
      "outputs": []
    },
    {
      "cell_type": "markdown",
      "source": [
        "## Euler's Method for Second-Order ODE's\n",
        "\n",
        "Second-order ODE's arise naturally from Newton's second law since acceleration is a second order:\n",
        "$$F=ma$$.\n",
        "\n",
        "Solve for acceleration\n",
        "$$a=\\frac{F}{m}.$$\n",
        "\n",
        "Write as a position derivative and explicitly show the possible position, velocity and time dependence of the force:\n",
        "$$\\frac{d^2x}{dt^2}=\\frac{a}{m}$$\n",
        "where the acceleration is potentially a function of position, velocity, time and mass:  $a=F(x, v, t)/m$.\n",
        "\n",
        "As discussed in the lecture slides, we write this second-order equation as two first-order equations like this:\n",
        "$$ \\frac{dx}{dt} = v $$\n",
        "\n",
        "$$ \\frac{dv}{dt} = \\frac{a}{m}. $$\n",
        "\n",
        "We can now apply the Euler method to each of these first-order ODEs:\n",
        "$$ x_{n+1} = x_n + v_n \\Delta t,$$\n",
        "\n",
        "$$ v_{n+1} = v_n + a(x_n, v_n, t)\\Delta t,$$\n",
        "\n",
        "The update rule for time:\n",
        "$$ t_{n+1} = t_n +t \\Delta t.$$\n",
        "\n",
        "\n"
      ],
      "metadata": {
        "id": "eF1QkX06vCzx"
      }
    },
    {
      "cell_type": "markdown",
      "source": [],
      "metadata": {
        "id": "dUJ21UnYFBCe"
      }
    },
    {
      "cell_type": "markdown",
      "source": [
        "### ✅ Skill Check 4\n",
        "\n",
        "The equation of motion for a simple harmonic oscillator is\n",
        "$$\\frac{d^2x}{dt^2} =-\\omega_0^2 x$$\n",
        "\n",
        "where $\\omega_0^2=k/m$ is the angular frequency of the oscillations.\n",
        "\n",
        "\n",
        "* Use Euler's method to numerically integrate this equation of motion to solve for $x(t)$.\n",
        "* You'll need to create arrays for both `x` and `v` and give them inital values. To keep things simple, assume `v_0=0`.\n",
        "* Pick parameters so that your simulation generates at least 8-10 oscillations.\n",
        "* Choose a time step between `dt=0.1` and `0.01`\n",
        "* Create two subplots: the top subplot should show $x(t)$ and the bottom subplot should show the absolute error $x(t)-x_{theory}(x)$ where the theoretical solution is\n",
        "$$ x_{theory}(t) = x_0 \\cos(\\omega_0 t)$$ assuming $v_0=0$. Note:  we plot the absolute error instead of the relative error because this solution passes through zero and will cause the relative error to \"blow up.\"\n",
        "* Create a legend on both plots labeling the curves\n",
        "* Label the axes and give the plot a title\n",
        "* Experiment with the time step. Can you pick a time step where the absolute error no longer increases with time? What implications does this have on the stability and usefullness of Euler's method for this system?"
      ],
      "metadata": {
        "id": "z5NhnXkiFBVv"
      }
    },
    {
      "cell_type": "code",
      "source": [
        "# your code here"
      ],
      "metadata": {
        "id": "latq40HYIUkE"
      },
      "execution_count": null,
      "outputs": []
    },
    {
      "cell_type": "code",
      "source": [
        "\n"
      ],
      "metadata": {
        "id": "zUmL-BVrIU80"
      },
      "execution_count": null,
      "outputs": []
    },
    {
      "cell_type": "code",
      "source": [],
      "metadata": {
        "id": "yeZr4iyvRY4L"
      },
      "execution_count": null,
      "outputs": []
    },
    {
      "cell_type": "markdown",
      "source": [
        "## Euler-Cromer-Aspel Method\n",
        "\n",
        "If we modify our Euler method in one shockingly simple way, we go from a first-order Euler method that is inherently unstable for the simple harmonic oscillator and other oscillatory, energy-conserving systems, to one that is stable with much smaller errors.\n",
        "\n",
        "The simple trick is this: use the new velocity `v[n+1]` in the position update rule instead of the old velocity `v[n]`. With this one simple change, we get a much more robust integration method for oscillatory, energy-conserving systems.\n",
        "\n",
        "The Euler-Cromer rule looks like this for the simple harmonic oscillaror:\n",
        "```\n",
        "for n in range(N-1):\n",
        "    v[n+1] = v[n] - k/m*x[n]*dt    \n",
        "    x[n+1] = x[n] + v[n+1]*dt      # modified to use v[n+1] instead of v[n]\n",
        "    t[n+1] = t[n] + dt\n",
        "```\n",
        "\n",
        "Historical Note:  While this method is commonly called the Euler-Cromer or the Symplectic Euler method, we believe the addition of \"Aspel\" is warranted. Alan Cromer attributes the discovery of this method to a high school stutent, Abby Aspel. Richard Feynman notes that the method has been discovered, forgotten and rediscovered many times since Newton. It was Cromer's paper analyzing Aspel's re-discovery of the method, however, that came at a time (1980) when numerical computations were more widespread in physics. Cromer received recognition while the (female) discoverer did not."
      ],
      "metadata": {
        "id": "6nPl1agJJSv2"
      }
    },
    {
      "cell_type": "markdown",
      "source": [
        "### ✅ Skill Check 5\n",
        "\n",
        "In this problem, we will modify our Euler method to use the Euler-Cromer-Aspel method: replace the `v[n]` term in the position update rule with `v[n+1]`. This will require movint the `x` update rule after the `v` update. The for loop with the update rules will look something like this:\n",
        "```\n",
        "for n in range(N-1):\n",
        "    v[n+1] = v[n] - k/m*x[n]*dt    \n",
        "    x[n+1] = x[n] + v[n+1]*dt      # modified to use v[n+1] instead of v[n]\n",
        "\n",
        "    t[n+1] = t[n] + dt\n",
        "```\n",
        "\n",
        "* Copy your simple harmonic oscillator code to the cell below and make the modifications described above.\n",
        "* Run your code.\n",
        "* Compare the error with the \"normal\" Euler method. Your error should be much, much smaller and not grow over time.\n"
      ],
      "metadata": {
        "id": "_EKgbji2RtNs"
      }
    },
    {
      "cell_type": "code",
      "source": [
        "import numpy as np\n",
        "import matplotlib.pyplot as plt\n",
        "\n",
        "# your code here"
      ],
      "metadata": {
        "id": "Sn2OxE63RZHg"
      },
      "execution_count": null,
      "outputs": []
    }
  ]
}