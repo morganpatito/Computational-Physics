{
  "nbformat": 4,
  "nbformat_minor": 0,
  "metadata": {
    "colab": {
      "provenance": [],
      "include_colab_link": true
    },
    "kernelspec": {
      "name": "python3",
      "display_name": "Python 3"
    },
    "language_info": {
      "name": "python"
    }
  },
  "cells": [
    {
      "cell_type": "markdown",
      "metadata": {
        "id": "view-in-github",
        "colab_type": "text"
      },
      "source": [
        "<a href=\"https://colab.research.google.com/github/morganpatito/Computational-Physics/blob/main/Python_Tutorials/Chapter_5_For_Loops.ipynb\" target=\"_parent\"><img src=\"https://colab.research.google.com/assets/colab-badge.svg\" alt=\"Open In Colab\"/></a>"
      ]
    },
    {
      "cell_type": "markdown",
      "source": [
        "#Chapter 5 - loops\n",
        "\n",
        "Goals:\n",
        "* Explain what loops do and what they are used for.\n",
        "* Trace the execution of for loops and while loops and correctly predict the state of variables in each iteration.\n",
        "* Write for and while loops to solve computational problems.\n",
        "* Asses when to use for loops and when to use while loops.\n",
        "* Write loops that use the Accumulator pattern to keep running sums or products and/or extend lists."
      ],
      "metadata": {
        "id": "QpgVwpxQFpAb"
      }
    },
    {
      "cell_type": "markdown",
      "source": [
        "##**5.0 Loops execute commands once for each value in a collection**\n",
        "\n",
        "\n"
      ],
      "metadata": {
        "id": "Ry7yHfvyEZEC"
      }
    },
    {
      "cell_type": "markdown",
      "source": [
        "* Doing repeated cacluations by hand for large data sets is painful. Loops let you set up the calculation once and apply it to as many data points as you like.\n",
        "* A for loop tells Python to execute some statements once for each value in a list or some other collection, i.e. \"for each thing in this group, do these operations\".\n",
        "* A `while` loop runs continuously until some condition is met"
      ],
      "metadata": {
        "id": "9guTDiJfG7P7"
      }
    },
    {
      "cell_type": "markdown",
      "source": [
        "##**5.1 A `for` loop is made up of a collection, a loop variable, and a body**\n",
        "\n"
      ],
      "metadata": {
        "id": "RwatQ3SUJOT2"
      }
    },
    {
      "cell_type": "markdown",
      "source": [
        "* In the example below, the collection `[2, 3, 5]` is what the loop is being run on. In this example, the collection is a Python list, but other objects can also serve as the collection.\n",
        "* The body, `print(number)`, specifies what to do for each value in the collection\n",
        "* The loop variable, `number`, is what changes on each iteration of the loop\n",
        "\n"
      ],
      "metadata": {
        "id": "qv8jStocDmJA"
      }
    },
    {
      "cell_type": "code",
      "execution_count": null,
      "metadata": {
        "id": "lrD5V_DaFk6-"
      },
      "outputs": [],
      "source": [
        "for number in [2,3,5]:      # for loop over the collection [2,3,5]\n",
        "    print(number)           # body of the for loop"
      ]
    },
    {
      "cell_type": "markdown",
      "source": [
        "* On the first iteration of the loop, the loop ariable `number` takes the value 2 (the first element of the collection.\n",
        "* On the second iteration, `number` takes the value 3 (second element of the collection) and so on.\n",
        "* When the last element of the collection is reached, the loop ends"
      ],
      "metadata": {
        "id": "FMtrsAhRaZaf"
      }
    },
    {
      "cell_type": "markdown",
      "source": [
        "## **5.2 The first line of a `for` loop must end with a colon, and the body must be indented**\n",
        "\n",
        "\n",
        "\n"
      ],
      "metadata": {
        "id": "W9LHmOW-HUbY"
      }
    },
    {
      "cell_type": "markdown",
      "source": [
        "* The colon at the end of the first line signals the start of a block of statements\n",
        "* Python uses indentation rather than conventions in other programming languages (such as `{ }` in C, or `end` in Matlab)\n",
        "* Any consistent indentation is legal, but almost everyone uses 4 spaces\n",
        "* If you don't indent, and indent the same amount for every line in the body of the loop, you'll get an error message\n",
        "* If you indent when you're not supposed to, you'll get an error message\n",
        "* Be careful how your code is indented!!"
      ],
      "metadata": {
        "id": "D4KTeiErE7GO"
      }
    },
    {
      "cell_type": "markdown",
      "source": [
        "##**5.3 Loop variables can be called anything**\n",
        "Loop variables:\n",
        "* are created on demand (they don't have to be previously defined)\n",
        "* can be called anything, although its a good idea to have the name of the loop variable reflect something about the collection if possible\n",
        "\n",
        "While the following is a valid for loop, the loop variable \"kitten\" probably doesn't add to our understanding of what the loop is for, unless the the collection `[4,5,6]` represents a kitten ID #. 🐱"
      ],
      "metadata": {
        "id": "oTD1K4e6OwXf"
      }
    },
    {
      "cell_type": "code",
      "source": [
        "for kitten in [4, 5, 6]:\n",
        "    print(kitten)"
      ],
      "metadata": {
        "id": "7sB_k1aPKnyD",
        "outputId": "cec4c91d-308f-4884-d5c2-599213bbecc2",
        "colab": {
          "base_uri": "https://localhost:8080/"
        }
      },
      "execution_count": 2,
      "outputs": [
        {
          "output_type": "stream",
          "name": "stdout",
          "text": [
            "4\n",
            "5\n",
            "6\n"
          ]
        }
      ]
    },
    {
      "cell_type": "markdown",
      "source": [
        "### ✅ Skill Check 1\n",
        "\n",
        "Write a for loop that prints each element of the following list, one item at a time:  `[2, 8, 18, 32, 50]`."
      ],
      "metadata": {
        "id": "Qu3gZoRCp8ow"
      }
    },
    {
      "cell_type": "code",
      "source": [
        "for number in [2, 8, 18, 32, 50]:\n",
        "    print(number)\n"
      ],
      "metadata": {
        "id": "VkP6Lmh8wp-9",
        "outputId": "c65c2ebe-ff00-4b5c-9d06-6576c456268c",
        "colab": {
          "base_uri": "https://localhost:8080/"
        }
      },
      "execution_count": 1,
      "outputs": [
        {
          "output_type": "stream",
          "name": "stdout",
          "text": [
            "2\n",
            "8\n",
            "18\n",
            "32\n",
            "50\n"
          ]
        }
      ]
    },
    {
      "cell_type": "markdown",
      "source": [
        "##**5.4 The body of a loop can contain many statements**\n",
        "\n",
        "* We recommend structuring your code so no loop is more than a few lines (otherwise your code can be hard to follow\n",
        "* Here's an example where we let the loop variable be `p` that will loop over a list of prime numbers. The `p` reminds us the loop variable is a prime.\n",
        "* Our program defines a list of primes and then prints a data table showing the prime, its square and its cube. It also prints a header at the top of the table to label each column\n"
      ],
      "metadata": {
        "id": "UKJZ8EB2LH8M"
      }
    },
    {
      "cell_type": "markdown",
      "source": [
        "### 🔆 Example:  for loop over prime numbers"
      ],
      "metadata": {
        "id": "ronWNJAFhkGz"
      }
    },
    {
      "cell_type": "code",
      "source": [
        "primes = [2, 3, 5, 7, 11]      # define a list of prime numbers\n",
        "print(\" prime  square   cube\") # print a header labeling each data column\n",
        "for p in primes:               # for loop, p will loop over elements of primes\n",
        "    squared = p**2             # calculate square of p\n",
        "    cubed   = p**3             # calculate cube of p\n",
        "    print(f\"    {p:2d}     {squared:3d}   {cubed:4d}\")  # formatted print"
      ],
      "metadata": {
        "id": "rmy_S2pMLtNu",
        "outputId": "5769d12d-208e-4409-fd64-33ff13271556",
        "colab": {
          "base_uri": "https://localhost:8080/"
        }
      },
      "execution_count": 3,
      "outputs": [
        {
          "output_type": "stream",
          "name": "stdout",
          "text": [
            " prime  square   cube\n",
            "     2       4      8\n",
            "     3       9     27\n",
            "     5      25    125\n",
            "     7      49    343\n",
            "    11     121   1331\n"
          ]
        }
      ]
    },
    {
      "cell_type": "markdown",
      "source": [
        "* Notice we use a formatted print statement to line the numbers up in columns. The `{squared:3d}` formatting tells python to reserve 3 spaces for digits in the squared numbers and `{cubed:4d}` reserves 4 spaces for cubes."
      ],
      "metadata": {
        "id": "62NxBssmN5Ox"
      }
    },
    {
      "cell_type": "markdown",
      "source": [
        "##**5.5 Iterate over a list of non-numeric items**\n",
        "\n",
        "`for` loops can iterate over lists of non-numeric  items in addition to numbers. In the following example, we use a `for` loop to iterate over a list of words. We use a formatted print statement to center-justify them."
      ],
      "metadata": {
        "id": "yKYuZrT9lMHk"
      }
    },
    {
      "cell_type": "code",
      "source": [
        "word_list = ['top','quark','gravity','radiation', 'electromagnetic','pion']\n",
        "\n",
        "for word in word_list:\n",
        "    print(f\"              {word:^15}\")"
      ],
      "metadata": {
        "id": "O6UU8o_Ll4IR",
        "outputId": "1a22e548-8814-45f8-ad9d-0a8a7cbedeaf",
        "colab": {
          "base_uri": "https://localhost:8080/"
        }
      },
      "execution_count": 4,
      "outputs": [
        {
          "output_type": "stream",
          "name": "stdout",
          "text": [
            "                    top      \n",
            "                   quark     \n",
            "                  gravity    \n",
            "                 radiation   \n",
            "              electromagnetic\n",
            "                   pion      \n"
          ]
        }
      ]
    },
    {
      "cell_type": "markdown",
      "source": [
        "### ✅ Skill Check 2\n",
        "\n",
        "Create a for loop that iterates over the elements of the following list. Use a print statement inside the loop to print each list element."
      ],
      "metadata": {
        "id": "T900tsoonf9h"
      }
    },
    {
      "cell_type": "code",
      "source": [
        "\n",
        "my_list = ['I', 'am', 'Learning', 'Python']\n",
        "\n",
        "for word in my_list:\n",
        "    print(word)\n"
      ],
      "metadata": {
        "id": "otx7Eeuxnux1",
        "outputId": "66791849-adab-4f16-ee17-65d0c93acdbd",
        "colab": {
          "base_uri": "https://localhost:8080/"
        }
      },
      "execution_count": 9,
      "outputs": [
        {
          "output_type": "stream",
          "name": "stdout",
          "text": [
            "I\n",
            "am\n",
            "Learning\n",
            "Python\n"
          ]
        }
      ]
    },
    {
      "cell_type": "markdown",
      "source": [
        "##**5.6 use `range()` to iterate over a sequence of numbers**\n",
        "\n",
        "* The `range(start,stop)` function produces a sequence of integers from `start` to `stop-1`\n",
        "* `range()` does not produce a Python list (which can take up lots of computer memory for long lists), rather, it generates the numbers on demand, one at a time.\n"
      ],
      "metadata": {
        "id": "JhUwF6m5O0Wr"
      }
    },
    {
      "cell_type": "code",
      "source": [
        "for n in range(3,8):\n",
        "    print(\"n =\",n)"
      ],
      "metadata": {
        "id": "xSPrbyI0QWqD",
        "outputId": "214f0154-8349-4069-f5c0-97c5ef987d72",
        "colab": {
          "base_uri": "https://localhost:8080/"
        }
      },
      "execution_count": 10,
      "outputs": [
        {
          "output_type": "stream",
          "name": "stdout",
          "text": [
            "n = 3\n",
            "n = 4\n",
            "n = 5\n",
            "n = 6\n",
            "n = 7\n"
          ]
        }
      ]
    },
    {
      "cell_type": "markdown",
      "source": [
        "* You can also use `range(N)` which generates the numbers:  0, 1, 2, ...N-1\n"
      ],
      "metadata": {
        "id": "gPUYBPPaQqBh"
      }
    },
    {
      "cell_type": "code",
      "source": [
        "for n in range(5):\n",
        "    print(\"n =\",n)"
      ],
      "metadata": {
        "id": "7mtFYdnzQ7Xs",
        "outputId": "a662fdf9-0899-468f-c1df-04249679cc8c",
        "colab": {
          "base_uri": "https://localhost:8080/"
        }
      },
      "execution_count": 11,
      "outputs": [
        {
          "output_type": "stream",
          "name": "stdout",
          "text": [
            "n = 0\n",
            "n = 1\n",
            "n = 2\n",
            "n = 3\n",
            "n = 4\n"
          ]
        }
      ]
    },
    {
      "cell_type": "markdown",
      "source": [
        "* Or, you can specify a non-unit step:  `range(start,stop,step)`. For example, if step = 2, the for loop would begin counting by 2s from `start`."
      ],
      "metadata": {
        "id": "1KItCLfnQ-xM"
      }
    },
    {
      "cell_type": "code",
      "source": [
        "for n in range(0,10,2):\n",
        "    print(\"n =\",n)"
      ],
      "metadata": {
        "id": "Tf8oNCUsKxrc",
        "outputId": "0a46dda8-4786-4e48-d162-deeed679fdf8",
        "colab": {
          "base_uri": "https://localhost:8080/"
        }
      },
      "execution_count": 12,
      "outputs": [
        {
          "output_type": "stream",
          "name": "stdout",
          "text": [
            "n = 0\n",
            "n = 2\n",
            "n = 4\n",
            "n = 6\n",
            "n = 8\n"
          ]
        }
      ]
    },
    {
      "cell_type": "markdown",
      "source": [
        "### 🔆 Example:  counting down\n",
        "\n",
        "You can count backwards by using a negative `step` and letting the `stop` value be larger than the `start` value"
      ],
      "metadata": {
        "id": "XUvhaMERc4V2"
      }
    },
    {
      "cell_type": "code",
      "source": [
        "for count in range(10,0,-1):\n",
        "    print(count)\n"
      ],
      "metadata": {
        "id": "NIkGLnQldSqt",
        "outputId": "80e240e8-a85c-46d0-d3fd-09a794b6e3f5",
        "colab": {
          "base_uri": "https://localhost:8080/"
        }
      },
      "execution_count": 13,
      "outputs": [
        {
          "output_type": "stream",
          "name": "stdout",
          "text": [
            "10\n",
            "9\n",
            "8\n",
            "7\n",
            "6\n",
            "5\n",
            "4\n",
            "3\n",
            "2\n",
            "1\n"
          ]
        }
      ]
    },
    {
      "cell_type": "markdown",
      "source": [
        "### ✅ Skill Check 3\n",
        "\n",
        "* **Without** running the following code, try to predict what it will print.\n",
        "* Create a Text Cell below to type your answer. Type exactly what you think the code will output.\n",
        "* Explain your logic in words as to what the code is doing.\n",
        "* If you want, you can copy the code in a Code cell and run it to see if you are correct, but this is not required.\n",
        "\n",
        "```\n",
        "for t in range(5):\n",
        "    x = 2*t**2\n",
        "    v = 2*t\n",
        "    print(f\"t = {t}    x = {x:2.0f}   v = {v}\")\n",
        "```\n",
        "\n",
        "\n"
      ],
      "metadata": {
        "id": "sgybq_R9dtws"
      }
    },
    {
      "cell_type": "markdown",
      "source": [
        "t = 0    x =  0   v = 0\n",
        "t = 1    x =  2   v = 2\n",
        "t = 2    x =  8   v = 4\n",
        "t = 3    x = 18   v = 6\n",
        "t = 4    x = 32   v = 8\n"
      ],
      "metadata": {
        "id": "HgiexCwRw3YF"
      }
    },
    {
      "cell_type": "code",
      "source": [],
      "metadata": {
        "id": "0bHN5TkFw2jl"
      },
      "execution_count": null,
      "outputs": []
    },
    {
      "cell_type": "markdown",
      "source": [
        "### ✅ Skill Check 4\n",
        "\n",
        "Write a for loop to count by fives starting from 5 and ending at 50. Your program should print out each value."
      ],
      "metadata": {
        "id": "PtIK3N2ZNxxC"
      }
    },
    {
      "cell_type": "code",
      "source": [
        "for n in range(5, 51, 5):\n",
        "    print(n)\n"
      ],
      "metadata": {
        "id": "NXgyDNSSw6zd",
        "outputId": "e2c3c99e-d7b9-4ff3-9342-a5aaae45ffb7",
        "colab": {
          "base_uri": "https://localhost:8080/"
        }
      },
      "execution_count": 14,
      "outputs": [
        {
          "output_type": "stream",
          "name": "stdout",
          "text": [
            "5\n",
            "10\n",
            "15\n",
            "20\n",
            "25\n",
            "30\n",
            "35\n",
            "40\n",
            "45\n",
            "50\n"
          ]
        }
      ]
    },
    {
      "cell_type": "markdown",
      "source": [
        "## **5.7 Use `enumerate()` to loop over values and the list index**\n",
        "\n",
        "* In a standard `for` loop, only the values corresponding to each element in a list are accessible. The index isn't.\n",
        "* The index tells us which element of an array the value is stored in, which can be useful for some applications.\n",
        "* We could use a counter to keep track of the index ourselves, like this:\n"
      ],
      "metadata": {
        "id": "L-60tBjHxaQk"
      }
    },
    {
      "cell_type": "code",
      "source": [
        "primes = [2, 3, 5, 7, 11]                # define a list of prime numbers\n",
        "i = 0                                    # initialized a counter to track the index\n",
        "for p in primes:                         # loop over elements in primes\n",
        "    print(f\"index = {i}   prime = {p}\")  # print index and value\n",
        "    i = i + 1                            # increment the counter"
      ],
      "metadata": {
        "id": "Vd0A0lP1okQ_",
        "outputId": "97e44820-ae4b-4283-fb64-7537d63109f2",
        "colab": {
          "base_uri": "https://localhost:8080/"
        }
      },
      "execution_count": 15,
      "outputs": [
        {
          "output_type": "stream",
          "name": "stdout",
          "text": [
            "index = 0   prime = 2\n",
            "index = 1   prime = 3\n",
            "index = 2   prime = 5\n",
            "index = 3   prime = 7\n",
            "index = 4   prime = 11\n"
          ]
        }
      ]
    },
    {
      "cell_type": "markdown",
      "source": [
        "* Python provides a way of automatically tracking the index, without having to set up a counter manually\n",
        "* We use the `enumerate()` function, which returns **two** values:  the index and the value for each element of the array\n",
        "* We \"capture\" the index returned by `enumerate()` by using a comma\n",
        "* Here's an example:\n",
        "\n"
      ],
      "metadata": {
        "id": "pqxVr4WxqkUZ"
      }
    },
    {
      "cell_type": "code",
      "source": [
        "primes = [2, 3, 5, 7, 11]               # define a list of prime numbers\n",
        "for i,p in enumerate(primes):           # for loop, i = array imdex\n",
        "    print(f\"index = {i}  prime ={p}\")   # print index and value"
      ],
      "metadata": {
        "id": "Q1ybamw_xreO",
        "outputId": "d3b208d1-872d-47f4-9dec-7fe9d33ff1e9",
        "colab": {
          "base_uri": "https://localhost:8080/"
        }
      },
      "execution_count": 16,
      "outputs": [
        {
          "output_type": "stream",
          "name": "stdout",
          "text": [
            "index = 0  prime =2\n",
            "index = 1  prime =3\n",
            "index = 2  prime =5\n",
            "index = 3  prime =7\n",
            "index = 4  prime =11\n"
          ]
        }
      ]
    },
    {
      "cell_type": "markdown",
      "source": [
        "### 🔆 Example\n",
        "\n",
        "Here's an example where knowing the list index could be helpful:\n",
        "* Let's create a function that checks to see which elements in a list are integers\n",
        "* This function uses an `if` statement, which will be discussed in Chapter 6, so don't worry if if this part is confusing. We'll cover it soon.\n",
        "* Run the code. The result should be a list of list indexes corresponding to the elements that are integers.\n"
      ],
      "metadata": {
        "id": "qDxV7bs7rZ_X"
      }
    },
    {
      "cell_type": "code",
      "source": [
        "A = [2,5,8,3.14,'a','b']       # define list containing multiple data types\n",
        "\n",
        "int_type = []                  # int_type will be a list containing indexes of\n",
        "                               # intergers in the array. Initialize to empty list\n",
        "\n",
        "for i,a in enumerate(A):       # loop over elements in list A\n",
        "    if type(a) is int:         # check to see if the element is an integer\n",
        "        int_type.append(i)     # if it is, add the index to our list\n",
        "print(\"list of indices containging integer data:  \",int_type)\n"
      ],
      "metadata": {
        "id": "5bcCCfrlsfRC",
        "outputId": "e4b7a295-5125-43af-991e-9d9ac2d061bf",
        "colab": {
          "base_uri": "https://localhost:8080/"
        }
      },
      "execution_count": 17,
      "outputs": [
        {
          "output_type": "stream",
          "name": "stdout",
          "text": [
            "list of indices containging integer data:   [0, 1, 2]\n"
          ]
        }
      ]
    },
    {
      "cell_type": "markdown",
      "source": [
        "### ✅ Skill Check 5\n",
        "\n",
        "Use the `enumerate()` command to iterate over the following list of items. Print the index and the array element."
      ],
      "metadata": {
        "id": "cWd6H18puYnQ"
      }
    },
    {
      "cell_type": "code",
      "source": [
        "my_list = ['a', 'b', 'c', 'd', 'e', 'f', 'g']\n",
        "\n",
        "for i, val in enumerate(my_list):\n",
        "    print(f\"index = {i}  element = {val}\")\n"
      ],
      "metadata": {
        "id": "DgEZB80Bu5bk",
        "outputId": "0f00929e-c965-44c4-bc58-b75ce4553bf9",
        "colab": {
          "base_uri": "https://localhost:8080/"
        }
      },
      "execution_count": 19,
      "outputs": [
        {
          "output_type": "stream",
          "name": "stdout",
          "text": [
            "index = 0  element = a\n",
            "index = 1  element = b\n",
            "index = 2  element = c\n",
            "index = 3  element = d\n",
            "index = 4  element = e\n",
            "index = 5  element = f\n",
            "index = 6  element = g\n"
          ]
        }
      ]
    },
    {
      "cell_type": "markdown",
      "source": [
        "## **5.8 Use zip() to loop over multiple lists**\n",
        "* The `zip()` function returns the elements for multiple lists\n",
        "* The lists must be the same length\n",
        "\n",
        "### 🔆 Example\n",
        "\n",
        "* In this example we have two arrays, one containing the mass and the other the velocity of a system of particles\n",
        "* We want to calculate the kinetic energy for each particle in the lists\n",
        "* We use the `zip()` function to loop over both the mass and velocity in a single loop\n"
      ],
      "metadata": {
        "id": "9-d1zIoww--b"
      }
    },
    {
      "cell_type": "code",
      "source": [
        "mass = [0.1, 0.5, 0.9, 2.3]     # masses\n",
        "vel  = [2.3, 1.2, 3.6, 5.5]     # velocity\n",
        "\n",
        "KE = []                         # set kinetic energy list to empty list\n",
        "for m,v in zip(mass, vel):      # loop over both mass and velocity lists\n",
        "    KE.append(0.5*m*v**2)       # calculate and add KE to KE list\n",
        "\n",
        "print(\"KE = \",KE)               # print KE"
      ],
      "metadata": {
        "id": "IQTEV8bDx3JC",
        "outputId": "582a3f7d-e3ba-4439-9495-d86b847c83af",
        "colab": {
          "base_uri": "https://localhost:8080/"
        }
      },
      "execution_count": 20,
      "outputs": [
        {
          "output_type": "stream",
          "name": "stdout",
          "text": [
            "KE =  [0.26449999999999996, 0.36, 5.832000000000001, 34.787499999999994]\n"
          ]
        }
      ]
    },
    {
      "cell_type": "markdown",
      "source": [
        "### ✅ Skill Check 6\n",
        "\n",
        "* In the following code cell, three lists are defined that count by 2's, 3's and 4's\n",
        "* Use the `zip()` function to loop over all three lists. Hint: the `zip()` function can handle any number of lists.\n",
        "* Print three columns of numbers, one for each list.\n",
        "* Use formatted printing to get the numbers to line up"
      ],
      "metadata": {
        "id": "9mBlcUKO3flv"
      }
    },
    {
      "cell_type": "code",
      "source": [
        "twos   = [2, 4, 6, 8, 10]\n",
        "threes = [3, 6, 9, 12, 15]\n",
        "fours  = [4, 8, 12, 16, 20]\n",
        "\n",
        "for a, b, c in zip(twos, threes, fours):\n",
        "    print(f\"{a:3d}  {b:3d}  {c:3d}\")\n"
      ],
      "metadata": {
        "id": "MZhz3b7T4fO9",
        "outputId": "5ea806cc-689c-4391-fa6c-5267d9428a56",
        "colab": {
          "base_uri": "https://localhost:8080/"
        }
      },
      "execution_count": 21,
      "outputs": [
        {
          "output_type": "stream",
          "name": "stdout",
          "text": [
            "  2    3    4\n",
            "  4    6    8\n",
            "  6    9   12\n",
            "  8   12   16\n",
            " 10   15   20\n"
          ]
        }
      ]
    },
    {
      "cell_type": "markdown",
      "source": [
        "## **5.9 The accumulator pattern sums or combines elements in a collection of numbers**\n",
        "\n",
        " **Coding patterns** are commonly used blocks of code that serve a particular function. The first coding pattern we will explore is called the **Accumulator Pattern**. It works as follows:\n",
        "* The Accumulator Pattern consists of a loop and an accumulator variable.\n",
        "* On each iteration of the loop, the accumulator variable \"accumulates\" or \"gathers\" information from the loop\n",
        "\n",
        "\n"
      ],
      "metadata": {
        "id": "PxT1JzEdRZek"
      }
    },
    {
      "cell_type": "markdown",
      "source": [
        "### 🔆 Example: Summing integers\n",
        "\n",
        "The following example used the Accumulator Pattern to sum the integers from 1 to 10.\n",
        "* We first initialize the accumulator variable, called `total` to zero.\n",
        "* We then loop over the the integers from 1 to 10\n",
        "* On each itereation of the loop, we add the loop variable (our integer) to the accumulator variable (the running total)"
      ],
      "metadata": {
        "id": "zZc3pgxjiB0-"
      }
    },
    {
      "cell_type": "code",
      "source": [
        "N = 10                    # N = upper limit of sum\n",
        "\n",
        "total = 0                 # total = accumulator = sum of integers\n",
        "for i in range(1,N+1):    # loop over integers 1 to N\n",
        "    total = total + i     # add i to the running total\n",
        "\n",
        "print(\"sum of integers from 1 to\",N,\"is\",total)"
      ],
      "metadata": {
        "id": "zNSlxuvgSetP",
        "outputId": "1449c587-f0bf-472b-a217-1e87698e42d4",
        "colab": {
          "base_uri": "https://localhost:8080/"
        }
      },
      "execution_count": 22,
      "outputs": [
        {
          "output_type": "stream",
          "name": "stdout",
          "text": [
            "sum of integers from 1 to 10 is 55\n"
          ]
        }
      ]
    },
    {
      "cell_type": "markdown",
      "source": [
        "### 🔆 Example: Extending a list\n",
        "\n",
        "Another example of the accumulator pattern is \"accumulating\" items in a list.\n",
        "* Here's an example where we keep appending items on the end of a list based on the prior elements.\n",
        "* In this example, the new item equals the previous item times two.\n",
        "* If $x_n$ is the $n^{th}$ list item, $x_{n+1}=2\\cdot x_n$\n",
        "* In other words, the $n^{th}$ item in the list will be $x_n = 2^n$.\n",
        "* Remember, `my_list[-1]` is the last item in the list, so `2*my_list[-1]` multiplies the last element by 2."
      ],
      "metadata": {
        "id": "pP_y5iwq2og4"
      }
    },
    {
      "cell_type": "code",
      "source": [
        "my_list = [1]                      # initialize the list with 1\n",
        "\n",
        "for n in range(10):                # for loop will calculate the next 10 items\n",
        "    my_list.append(my_list[-1]*2)  # next item = previous item * 2\n",
        "\n",
        "print(my_list)"
      ],
      "metadata": {
        "id": "JqALeTLw3GLL",
        "outputId": "f0f9c50a-baac-4a5a-ae9e-dbc970ad209b",
        "colab": {
          "base_uri": "https://localhost:8080/"
        }
      },
      "execution_count": 23,
      "outputs": [
        {
          "output_type": "stream",
          "name": "stdout",
          "text": [
            "[1, 2, 4, 8, 16, 32, 64, 128, 256, 512, 1024]\n"
          ]
        }
      ]
    },
    {
      "cell_type": "markdown",
      "source": [
        "### ✅ Skill Check 7\n",
        "\n"
      ],
      "metadata": {
        "id": "NNzUlt5Onccq"
      }
    },
    {
      "cell_type": "markdown",
      "source": [
        "* Write a program that uses the Accumulator Pattern to calculate the factorial $x!$ of a given whole number `x` where $x! = 1\\cdot 2\\cdot 3 \\cdots (x-1)\\cdot x$\n",
        "* Hint:  In this application, you will be accumulating the **product** of a series of numbers instead of the **sum**.\n",
        "* When we calculated the sum, we initialized the accumulator to 0. What should you initialize the accumulator to be when calculating a product?  \n",
        "* Test out your code for N = 6"
      ],
      "metadata": {
        "id": "T8dRVqKh0k3E"
      }
    },
    {
      "cell_type": "code",
      "source": [
        "x = 6\n",
        "factorial = 1\n",
        "\n",
        "for i in range(1, x + 1):\n",
        "    factorial *= i\n",
        "\n",
        "print(f\"{x}! = {factorial}\")\n",
        "\n"
      ],
      "metadata": {
        "id": "fvaXPayLxH80",
        "outputId": "32726251-2e18-40f2-d9ec-cc1dbf3905f3",
        "colab": {
          "base_uri": "https://localhost:8080/"
        }
      },
      "execution_count": 24,
      "outputs": [
        {
          "output_type": "stream",
          "name": "stdout",
          "text": [
            "6! = 720\n"
          ]
        }
      ]
    },
    {
      "cell_type": "markdown",
      "source": [
        "### ✅ Skill Check 8\n",
        "\n"
      ],
      "metadata": {
        "id": "v-N2cfaWpH1t"
      }
    },
    {
      "cell_type": "code",
      "source": [
        "N = 10\n",
        "total = 0\n",
        "\n",
        "for n in range(N + 1):\n",
        "    total += 2**n\n",
        "\n",
        "print(\"Sum =\", total)\n"
      ],
      "metadata": {
        "id": "RP3nahTixKPM",
        "outputId": "d1ba82d6-808f-41d2-fc34-2c902d89d6a4",
        "colab": {
          "base_uri": "https://localhost:8080/"
        }
      },
      "execution_count": 25,
      "outputs": [
        {
          "output_type": "stream",
          "name": "stdout",
          "text": [
            "Sum = 2047\n"
          ]
        }
      ]
    },
    {
      "cell_type": "code",
      "source": [],
      "metadata": {
        "id": "f7P4AvMXxLOM"
      },
      "execution_count": null,
      "outputs": []
    },
    {
      "cell_type": "markdown",
      "source": [
        "* Write a program that calculates the sum $\\Sigma_{n=0}^N \\frac{1}{2^n}$, where the upper limit is stored in a variable `N`\n",
        "* Test out your code for N = 10"
      ],
      "metadata": {
        "id": "hTU6GTDZ3FEa"
      }
    },
    {
      "cell_type": "markdown",
      "source": [
        "### ✅ Skill Check 9\n",
        "\n",
        "Write some code to produce the first 15 terms of the Fibonacci sequence:  0, 1, 1, 2, 3, 5, 8...\n",
        "* The Fibonacci sequence is defined as $x_n=x_{n-1} + x_{n-2}$, i.e. each term is the sum of the previous two terms.\n",
        "* Start with a list containing the first two terms in the series: `[0,1]`\n",
        "* Use the accumulator pattern and the example above of extending a list\n",
        "* Print your list when you are done\n"
      ],
      "metadata": {
        "id": "JVILlV1uzlA5"
      }
    },
    {
      "cell_type": "code",
      "source": [
        "fib = [0, 1]\n",
        "\n",
        "for _ in range(13):\n",
        "    fib.append(fib[-1] + fib[-2])\n",
        "\n",
        "print(fib)\n",
        "\n"
      ],
      "metadata": {
        "id": "svQlToNaxM9F",
        "outputId": "fd47b2c1-f05e-4b52-9b04-b297e72f9848",
        "colab": {
          "base_uri": "https://localhost:8080/"
        }
      },
      "execution_count": 26,
      "outputs": [
        {
          "output_type": "stream",
          "name": "stdout",
          "text": [
            "[0, 1, 1, 2, 3, 5, 8, 13, 21, 34, 55, 89, 144, 233, 377]\n"
          ]
        }
      ]
    },
    {
      "cell_type": "markdown",
      "source": [
        "##**5.10 Nested loops**\n",
        "\n",
        "* Loops can contain other loops. Loops within loops are called nested loops\n",
        "* Let's start with a simple loop. The loop variable is `b` and it will loop over the collection `[1, 2, 3]`.\n",
        "* We'll print out the value of `b` on each iteration of the loop\n",
        "* Since this is going to be the inner loop of our nested loop, we'll label it \"inner loop\"\n",
        "* Finally, we'll print a statement telling us when the inner loop is done.\n",
        "\n",
        "Here's the code:\n",
        "\n",
        "\n"
      ],
      "metadata": {
        "id": "PbWKjN9lVSGA"
      }
    },
    {
      "cell_type": "code",
      "source": [
        "print(\"  inner loop\")\n",
        "\n",
        "for b in [1, 2, 3]:\n",
        "    print(f\"     b = {b}\")\n",
        "print(\"inner loop done\")\n"
      ],
      "metadata": {
        "id": "ci_A4pzmemOr",
        "outputId": "8a037275-5b35-48ae-a72d-fbe68ee46a8e",
        "colab": {
          "base_uri": "https://localhost:8080/"
        }
      },
      "execution_count": 27,
      "outputs": [
        {
          "output_type": "stream",
          "name": "stdout",
          "text": [
            "  inner loop\n",
            "     b = 1\n",
            "     b = 2\n",
            "     b = 3\n",
            "inner loop done\n"
          ]
        }
      ]
    },
    {
      "cell_type": "markdown",
      "source": [
        "* Now, let's place this loop inside an outer loop.\n",
        "* The outer loop variable will be `a` that will loop over the collection `[10, 20, 30]`\n",
        "* We'll print both the values `a` and `b`\n",
        "* We'll also place the \"inner loop done\" print statement inside our outer loop (but outside the inner loop)\n",
        "\n",
        "Here's the code:"
      ],
      "metadata": {
        "id": "ngB1ZgY4fxQu"
      }
    },
    {
      "cell_type": "code",
      "source": [
        "print(\"outer loop    inner loop\")  # header info before loops start\n",
        "\n",
        "for a in [10, 20, 30]:             # outer loop, a = loop variable\n",
        "\n",
        "    for b in [1, 2, 3]:            # inner loop, b = loop variable\n",
        "        print(f\"  a = {a}        b = {b}\")    # only this statement is performed inside both loops\n",
        "    print(\"inner loop done\")       # display message after inner loop finishes\n",
        "\n",
        "print(\"outer loop done\")           # display message after outer loop finishes"
      ],
      "metadata": {
        "id": "dFnrUjt2dM5q",
        "outputId": "2e1cd1b2-493a-4ecd-c7ba-4bb3491450fa",
        "colab": {
          "base_uri": "https://localhost:8080/"
        }
      },
      "execution_count": 28,
      "outputs": [
        {
          "output_type": "stream",
          "name": "stdout",
          "text": [
            "outer loop    inner loop\n",
            "  a = 10        b = 1\n",
            "  a = 10        b = 2\n",
            "  a = 10        b = 3\n",
            "inner loop done\n",
            "  a = 20        b = 1\n",
            "  a = 20        b = 2\n",
            "  a = 20        b = 3\n",
            "inner loop done\n",
            "  a = 30        b = 1\n",
            "  a = 30        b = 2\n",
            "  a = 30        b = 3\n",
            "inner loop done\n",
            "outer loop done\n"
          ]
        }
      ]
    },
    {
      "cell_type": "markdown",
      "source": [
        "* Notice what happens. While the inner loop is looping, the a variable updates while the b variable stays constant.\n",
        "* When the inner loop is complete, the \"inner loop done\" statement is printed and the next iteration of the outer loop starts.\n",
        "* Notice the indentation. Everything with a single tab is executed inside the outer loop. Everything with a double tab (i.e. the inner print statement) is executed inside both the inner and outer loops\n",
        "* Study this code to make sure you understand it"
      ],
      "metadata": {
        "id": "_388MRJOgZCk"
      }
    },
    {
      "cell_type": "markdown",
      "source": [
        "### ✅ Skill Check 10\n",
        "\n",
        "Trace the following code by hand (i.e. don't run it). Create a text box and write down what the code will output. If you like, you can copy the code in to a Code Cell to see if your prediction was correct.\n",
        "\n",
        "```\n",
        "for x in [1,10,100]:\n",
        "    s = x\n",
        "    for y in [0,1,2]:\n",
        "        s = s + y\n",
        "        print(x,y,s)\n",
        "```\n",
        "\n"
      ],
      "metadata": {
        "id": "Ty_CHb9PE0GL"
      }
    },
    {
      "cell_type": "markdown",
      "source": [
        "1 0 1\n",
        "1 1 2\n",
        "1 2 4\n",
        "10 0 10\n",
        "10 1 11\n",
        "10 2 13\n",
        "100 0 100\n",
        "100 1 101\n",
        "100 2 103\n"
      ],
      "metadata": {
        "id": "SULhgI9pxSDl"
      }
    },
    {
      "cell_type": "markdown",
      "source": [
        "### 🔆 Example\n",
        "\n",
        "The following program prints the numbers 1 to 100 in 10 columns using nested loops\n",
        "* the inner loop iterates over each column\n",
        "* the outer loop iterates over each row\n",
        "* when printing along a given row, we don't want the print statement to return to the next line (i.e. we want to stay on the same line for the next number). We accomplish this by using the `end=\"\"` option in the print statement. We then print a new line using `print()` after the inner loop is done.\n",
        "* experiment with this code to make sure you understand it."
      ],
      "metadata": {
        "id": "9S5zsCN4Gjz2"
      }
    },
    {
      "cell_type": "code",
      "source": [
        "for row in range(0,100,10):          # loop over rows\n",
        "    for col in range(1,11):          # loop over columns\n",
        "        product = row + col          # calculate the sum of the row and col variables\n",
        "        print(f\"{product:3d}  \",end=\"\")   # print result suppressing line feed (don't start new line)\n",
        "    print()                               # start a new line after previous row is done printing"
      ],
      "metadata": {
        "id": "FG9iguMZFztw"
      },
      "execution_count": null,
      "outputs": []
    },
    {
      "cell_type": "markdown",
      "source": [
        "### ✅ Skill Check 11\n",
        "\n",
        "Create a multiplication table so that the table entry equals the product of the row number and the column number.\n",
        "* The table should have all product up to NxN, where N is a variable.\n",
        "* Use the previous example as a starting point.\n",
        "* As in the previous example, make sure the numbers in the multipication table are lined up in neat columns.\n",
        "* Run your code with N = 12\n"
      ],
      "metadata": {
        "id": "KP8r0ZdsXd1J"
      }
    },
    {
      "cell_type": "code",
      "source": [
        "N = 12\n",
        "\n",
        "for row in range(1, N+1):\n",
        "    for col in range(1, N+1):\n",
        "        product = row * col\n",
        "        print(f\"{product:4d}\", end=\"\")\n",
        "    print()\n"
      ],
      "metadata": {
        "id": "R5O5wKgFxU_0",
        "outputId": "dce5ee46-267a-4b25-e766-9a258488d9b2",
        "colab": {
          "base_uri": "https://localhost:8080/"
        }
      },
      "execution_count": 29,
      "outputs": [
        {
          "output_type": "stream",
          "name": "stdout",
          "text": [
            "   1   2   3   4   5   6   7   8   9  10  11  12\n",
            "   2   4   6   8  10  12  14  16  18  20  22  24\n",
            "   3   6   9  12  15  18  21  24  27  30  33  36\n",
            "   4   8  12  16  20  24  28  32  36  40  44  48\n",
            "   5  10  15  20  25  30  35  40  45  50  55  60\n",
            "   6  12  18  24  30  36  42  48  54  60  66  72\n",
            "   7  14  21  28  35  42  49  56  63  70  77  84\n",
            "   8  16  24  32  40  48  56  64  72  80  88  96\n",
            "   9  18  27  36  45  54  63  72  81  90  99 108\n",
            "  10  20  30  40  50  60  70  80  90 100 110 120\n",
            "  11  22  33  44  55  66  77  88  99 110 121 132\n",
            "  12  24  36  48  60  72  84  96 108 120 132 144\n"
          ]
        }
      ]
    },
    {
      "cell_type": "markdown",
      "source": [
        "###✅ Skill Check 12\n",
        "\n",
        "* Modify the program you wrote for Skill Check 8 in the following way:\n",
        "* Display the sum found in Skill Check 1 for the following upper limits `N = 1, 2, 3, 5, 10, 100`.\n",
        "* Use a nested loop to Write a program that calculates the sum $\\Sigma_{n=0}^N\\frac{1}{2^n}$.\n",
        "* The output should be produced by a single print statement inside the outer loop\n"
      ],
      "metadata": {
        "id": "cUBOZcNlpmSF"
      }
    },
    {
      "cell_type": "code",
      "source": [
        "for N in [1, 2, 3, 5, 10, 100]:\n",
        "    total = 0\n",
        "    for n in range(N + 1):\n",
        "        total += 2**n\n",
        "    print(f\"Sum of 2^n from n=0 to {N} is {total}\")\n"
      ],
      "metadata": {
        "id": "IyuC2vg-xXH0",
        "outputId": "a5e9cef4-0f4b-469d-f81b-5ebc07a9335b",
        "colab": {
          "base_uri": "https://localhost:8080/"
        }
      },
      "execution_count": 30,
      "outputs": [
        {
          "output_type": "stream",
          "name": "stdout",
          "text": [
            "Sum of 2^n from n=0 to 1 is 3\n",
            "Sum of 2^n from n=0 to 2 is 7\n",
            "Sum of 2^n from n=0 to 3 is 15\n",
            "Sum of 2^n from n=0 to 5 is 63\n",
            "Sum of 2^n from n=0 to 10 is 2047\n",
            "Sum of 2^n from n=0 to 100 is 2535301200456458802993406410751\n"
          ]
        }
      ]
    },
    {
      "cell_type": "markdown",
      "source": [
        "##**5.11 `while` loops**\n",
        "\n",
        "* A `while` loop iterates while some condition remains true.\n",
        "* It starts with `while`, specifices a condition to keep looping and ends with a colon `:`\n",
        "\n",
        "### 🔆 Example\n",
        "\n",
        "Here's a simple example to print all powers of 2 less than 100\n",
        "* Note:  we want to use a while loop instead of a for loop since we don't know ahead of time how many terms to include (we could do some math to figure it out, but that's too much work)\n",
        "* We know $2^0=1$, so we'll initialize our first power as 1\n",
        "* Inside our loop, we'll keep multiplying the previous value by 2 to get the next higher power\n",
        "* Notice we must do the multiplication **after** we print the power.  Why is this?  Try moving the multiplication before the print statement to see what happens."
      ],
      "metadata": {
        "id": "osgDxoaa9iU7"
      }
    },
    {
      "cell_type": "code",
      "source": [
        "p = 1             # initialize power\n",
        "while p < 100:    # loop while power is less than 100\n",
        "    print(p)      # display current value\n",
        "    p = p * 2     # multiply power by 2"
      ],
      "metadata": {
        "id": "AmHOyhiY-Cfd",
        "outputId": "f201718a-bf26-49f5-b580-5589a5f38e6e",
        "colab": {
          "base_uri": "https://localhost:8080/"
        }
      },
      "execution_count": 31,
      "outputs": [
        {
          "output_type": "stream",
          "name": "stdout",
          "text": [
            "1\n",
            "2\n",
            "4\n",
            "8\n",
            "16\n",
            "32\n",
            "64\n"
          ]
        }
      ]
    },
    {
      "cell_type": "markdown",
      "source": [
        "\n",
        "\n",
        "### 🔆 Example:  Rolling dice\n",
        "\n",
        "This example simulates rolling a 6-sided die. We count how many rolls it takes to get a predetermined roll (in this case a 6).\n",
        "* We use the `random` library to generate random numbers\n",
        "* The command `random.randint(a,b)` generates a new random integer each time the command is called. The integer is drawn from a uniform distribution between `a` and `b`. We will use `random.randint(1,6)` to generate numbers between 1 and 6 inclusive.\n",
        "* We define a variable `target_roll` to be the value we want to roll (in our case 6)\n",
        "* The variable `count` is a counter to count how many rolls it takes to get our target\n",
        "* `roll` is the result of our random number generator used to simulate the dice roll.\n",
        "* Our `while` loop keeps iterating as long as the dice roll is not equal to the target.\n",
        "* Inside the loop, we use `random.randint(1,6)` to simulate our dice roll\n",
        "* We increment our counter everytime we generate a random dice roll\n",
        "* If the roll produces the `target_roll`, the condition `roll != target_roll` will be `False` and teh while loop will stop.\n",
        "* We print the total number of rolls at the end of the program\n",
        "Run the program to see what it produces\n",
        "\n"
      ],
      "metadata": {
        "id": "3zj5CkMWsNzs"
      }
    },
    {
      "cell_type": "code",
      "source": [
        "import random           # import random library to use random number generator\n",
        "\n",
        "target_roll = 6         # roll that you want to get\n",
        "count = 0               # counter variable to count number of rolls\n",
        "roll = -1               # initialize roll to any value other than the target\n",
        "\n",
        "while roll != target_roll:         # loop while desired roll hasn't\n",
        "    roll = random.randint(1,6)     # use random number generator to draw number between 1 and 6\n",
        "    count = count + 1              # increase counter tracking number of rolls\n",
        "    print(\"roll = \",roll)          # display current roll\n",
        "\n",
        "# print message giving total number of rolls\n",
        "print(\"Number of rolls to get\",target_roll,\"=\",count)"
      ],
      "metadata": {
        "id": "e0cGttJusjTq",
        "outputId": "2aad384d-7d6f-4d78-e49d-a0211c438a2f",
        "colab": {
          "base_uri": "https://localhost:8080/"
        }
      },
      "execution_count": 32,
      "outputs": [
        {
          "output_type": "stream",
          "name": "stdout",
          "text": [
            "roll =  1\n",
            "roll =  6\n",
            "Number of rolls to get 6 = 2\n"
          ]
        }
      ]
    },
    {
      "cell_type": "markdown",
      "source": [
        "###✅ Skill Check 13\n",
        "Modify the Rolling Dice program in the following way:\n",
        "* Adapt it for flipping a coin (2 possible outcomes instead of 6)\n",
        "* You might imagine 1 = heads and 2 = tails\n",
        "* Instead of tyring to get a 6, try to get \"heads\", i.e. a 1.\n",
        "* Run it a few times. What's the largest number of coin flips you get **without** getting heads (in other words, getting tails every time)?"
      ],
      "metadata": {
        "id": "tayvhikoAHqg"
      }
    },
    {
      "cell_type": "code",
      "source": [
        "import random\n",
        "\n",
        "target = 1\n",
        "count = 0\n",
        "flip = -1\n",
        "\n",
        "while flip != target:\n",
        "    flip = random.randint(1, 2)  # 1=heads, 2=tails\n",
        "    count += 1\n",
        "\n",
        "print(\"It took\", count, \"flips to get heads (1)\")\n",
        "\n"
      ],
      "metadata": {
        "id": "3a3avmPcxcek",
        "outputId": "2c629a4d-f3e4-4795-c27f-3cad33f4b1b4",
        "colab": {
          "base_uri": "https://localhost:8080/"
        }
      },
      "execution_count": 107,
      "outputs": [
        {
          "output_type": "stream",
          "name": "stdout",
          "text": [
            "It took 7 flips to get heads (1)\n"
          ]
        }
      ]
    },
    {
      "cell_type": "code",
      "source": [],
      "metadata": {
        "id": "77HzTSqHxbrs"
      },
      "execution_count": null,
      "outputs": []
    },
    {
      "cell_type": "markdown",
      "source": [
        "##Key Points\n",
        "\n",
        "* for loops execute commands once for each value in a collection\n",
        "* `while` loops keep looping as long as a specified condition is true\n",
        "* A for loop is made of a collection, a loop variable and a body\n",
        "* The first line of a for loop must end with a colon and the body must be indented\n",
        "* Loop variables can be called anything\n",
        "* The body of a loop can contain many statements\n",
        "* Use range() to iterate over a sequence of numbers\n",
        "* Use enumerate() to loop over values and the list index\n",
        "* Use zip() to loop over multiple lists\n",
        "* The accumulator pattern is a way of summing or combining elements in a collection of numbers\n",
        "* Nested loops place one loop inside another"
      ],
      "metadata": {
        "id": "RT643CcAOwf4"
      }
    }
  ]
}