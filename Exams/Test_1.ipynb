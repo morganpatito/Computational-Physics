{
  "nbformat": 4,
  "nbformat_minor": 0,
  "metadata": {
    "colab": {
      "provenance": [],
      "authorship_tag": "ABX9TyPbQGrkHjsNproSqz+zljHM",
      "include_colab_link": true
    },
    "kernelspec": {
      "name": "python3",
      "display_name": "Python 3"
    },
    "language_info": {
      "name": "python"
    }
  },
  "cells": [
    {
      "cell_type": "markdown",
      "metadata": {
        "id": "view-in-github",
        "colab_type": "text"
      },
      "source": [
        "<a href=\"https://colab.research.google.com/github/dchappell2/Computational-Physics/blob/main/Exams/Test_1.ipynb\" target=\"_parent\"><img src=\"https://colab.research.google.com/assets/colab-badge.svg\" alt=\"Open In Colab\"/></a>"
      ]
    },
    {
      "cell_type": "markdown",
      "source": [
        "Computational Methods, Test 1"
      ],
      "metadata": {
        "id": "MPScCX481lZs"
      }
    },
    {
      "cell_type": "markdown",
      "source": [
        "1. (5 points) Use the following NumPy Arrays to evaluate the Python commands below:"
      ],
      "metadata": {
        "id": "8xDVwTe41ri-"
      }
    },
    {
      "cell_type": "markdown",
      "source": [
        "\n",
        "\n",
        "```\n",
        "x[3]\n",
        "\n",
        "x[:3]\n",
        "\n",
        "y[-1]\n",
        "\n",
        "y[y>4]\n",
        "\n",
        "x[y==8]\n",
        "```\n",
        "\n"
      ],
      "metadata": {
        "id": "k6vWnH2t1-W5"
      }
    },
    {
      "cell_type": "code",
      "source": [
        "import numpy as np\n",
        "x = np.array([3, 6, 7, 2, 0, 2, 5, 5])\n",
        "y = np.array([0, 5, 2, 8, 4, 5, 1, 8])\n",
        "\n",
        "# enter your code here"
      ],
      "metadata": {
        "id": "TLpbZJd81yln"
      },
      "execution_count": null,
      "outputs": []
    },
    {
      "cell_type": "markdown",
      "source": [
        "2. (5 points) Write down the output of the following commands\n"
      ],
      "metadata": {
        "id": "QK1j6_Dh2TOB"
      }
    },
    {
      "cell_type": "code",
      "source": [
        "np.linspace(0,5,5)\n",
        "np.arange(0,10,2)\n",
        "np.zeros((2,4))"
      ],
      "metadata": {
        "id": "fTV2L2an2ZHq"
      },
      "execution_count": null,
      "outputs": []
    },
    {
      "cell_type": "markdown",
      "source": [
        "3. (5 points) Calculate the sum of the squares of integers from 1 to 100. Use any method.\n"
      ],
      "metadata": {
        "id": "NFZQkXpb2gvf"
      }
    },
    {
      "cell_type": "code",
      "source": [
        "# enter your code here"
      ],
      "metadata": {
        "id": "rfx6sDU52lqt"
      },
      "execution_count": null,
      "outputs": []
    },
    {
      "cell_type": "markdown",
      "source": [
        "4. (5 points) Given a Python list of integers A, create a new list B that only contains those elements of A that are positive. Use a for loop (not logical indexing).\n"
      ],
      "metadata": {
        "id": "5OjLlDzj2oGS"
      }
    },
    {
      "cell_type": "code",
      "source": [
        "# enter your code here"
      ],
      "metadata": {
        "id": "f_gZwt0y2tth"
      },
      "execution_count": null,
      "outputs": []
    },
    {
      "cell_type": "markdown",
      "source": [
        "5. (5 points) (a) Write down the output of the following Python program in the box below. Only show what will be printed."
      ],
      "metadata": {
        "id": "N3kpzvX42uif"
      }
    },
    {
      "cell_type": "code",
      "source": [
        "A = [1, -2, 3, -4, 5, -6]\n",
        "s1 = 0\n",
        "s2 = 0\n",
        "for n in A:\n",
        "     if n > 0:\n",
        "         s1 += n\n",
        "     else:\n",
        "         s2 += n\n",
        "     print(f'{n:2} {s1:2} {s2:2}')"
      ],
      "metadata": {
        "id": "EpP795dk2zxZ"
      },
      "execution_count": null,
      "outputs": []
    },
    {
      "cell_type": "markdown",
      "source": [
        "6. (5 points) (a) Write down the output of the following Python program in the box below. Only show what will be printed.\n"
      ],
      "metadata": {
        "id": "qKi-ESMD3AMs"
      }
    },
    {
      "cell_type": "code",
      "source": [
        "s = 0\n",
        "for n in range(4):\n",
        "    for x in range(n+1):\n",
        "       s += 1\n",
        "    print(f'{n}  {s}')"
      ],
      "metadata": {
        "id": "LR9TnO5E3DPn"
      },
      "execution_count": null,
      "outputs": []
    },
    {
      "cell_type": "markdown",
      "source": [
        "7. (5 points) Write some Python code using the NumPy library to calculate the speed of an object in free fall:\n",
        "Prompt the user to enter the height $h$ from which the object is dropped.\n",
        "Calculate the velocity using $v=\\sqrt{2gh}$ , where $g=9.8$ m/s$^2$.\n",
        "Print a message displaying and labeling the velocity rounded to 2 decimal places\n",
        "Print a warning message if the speed exceeds half the speed of light, where $c=3\\times 10^8$ m/s. The message should read:  “The object is approaching the speed of light”."
      ],
      "metadata": {
        "id": "VL6rkGj33JEy"
      }
    },
    {
      "cell_type": "code",
      "source": [
        "# enter your code here"
      ],
      "metadata": {
        "id": "8Rf6kDcL3bLu"
      },
      "execution_count": null,
      "outputs": []
    },
    {
      "cell_type": "markdown",
      "source": [
        "8. (5 points) Create a  NumPy array (100 rows and 4 columns) containing the following:\n",
        "* Column 1:  angle $\\theta$ - linearly spaced values between 0 and\n",
        "* Column 2: $\\sin \\theta$  \n",
        "* Column 3: $\\cos \\theta$\n",
        "* Column 4:  average of the values in columns 2 and 3"
      ],
      "metadata": {
        "id": "jOY79Luj3d4t"
      }
    },
    {
      "cell_type": "code",
      "source": [
        "# enter your code here"
      ],
      "metadata": {
        "id": "FfAsJUPi3thM"
      },
      "execution_count": null,
      "outputs": []
    },
    {
      "cell_type": "markdown",
      "source": [
        "9. (5 points) In this problem, you will explore a random walk in which the motion of a particle is controlled by a coin toss. If the coin is heads, move one unit to the right (+1), if tails, move one unit to the left (–1). Here’s the procedure:\n",
        "* Ask the user to input the total number of steps for the random walk\n",
        "* Start the particle at the origin.\n",
        "* Pick a random number to move the particle left or right by one unit.\n",
        "* Repeat for a total of N steps\n",
        "* After the walk is complete, print the position of the particle\n",
        "\n",
        "     You can use any method you like to solve this problem"
      ],
      "metadata": {
        "id": "2WbX89BE3w1b"
      }
    },
    {
      "cell_type": "code",
      "source": [
        "# enter your code here"
      ],
      "metadata": {
        "id": "FtBYvZ9n3tft"
      },
      "execution_count": null,
      "outputs": []
    },
    {
      "cell_type": "markdown",
      "source": [
        "10. (5 points) The Liebnitz formula for pi is:\n",
        "\n",
        "$\\pi \\approx 4 \\sum_{k=o}^N \\frac{(-1)^k}{2k+1}  \\approx 4\\cdot \\left[ 1-\\frac{1}{3} + \\frac{1}{5} - \\frac{1}{7} + \\frac{1}{9}+ \\cdots \\right]$\n",
        "                             \n",
        "* Write some Python code that prompts the user for the upper limit on the summation N and calculates the series.\n",
        "* Calculate the percent error of your approximation:  $error=\\left| \\frac{estimate-actual}{actual} \\right|\\times 100\\%$\n",
        "\n",
        "* print your estimated value of pi and the percent error along with a descriptive message\n",
        "* Use any method you like."
      ],
      "metadata": {
        "id": "XGBijCBt4A3b"
      }
    },
    {
      "cell_type": "code",
      "source": [
        "# enter your code here"
      ],
      "metadata": {
        "id": "u-5wiTjr4dHC"
      },
      "execution_count": null,
      "outputs": []
    }
  ]
}