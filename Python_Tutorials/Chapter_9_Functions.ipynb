{
  "nbformat": 4,
  "nbformat_minor": 0,
  "metadata": {
    "colab": {
      "provenance": [],
      "include_colab_link": true
    },
    "kernelspec": {
      "name": "python3",
      "display_name": "Python 3"
    },
    "language_info": {
      "name": "python"
    }
  },
  "cells": [
    {
      "cell_type": "markdown",
      "metadata": {
        "id": "view-in-github",
        "colab_type": "text"
      },
      "source": [
        "<a href=\"https://colab.research.google.com/github/morganpatito/Computational-Physics/blob/main/Python_Tutorials/Chapter_9_Functions.ipynb\" target=\"_parent\"><img src=\"https://colab.research.google.com/assets/colab-badge.svg\" alt=\"Open In Colab\"/></a>"
      ]
    },
    {
      "cell_type": "markdown",
      "source": [
        "##Chapter 9 - Functions\n",
        "\n",
        "Goals:\n",
        "* Explain and identify the difference between function definition and function call.\n",
        "* Write a function that takes a number of arguments and produces a returned value.\n",
        "\n"
      ],
      "metadata": {
        "id": "TTncLZhvQkAI"
      }
    },
    {
      "cell_type": "markdown",
      "source": [
        "## 9.0 Break programs down into functions to make them easier to understand.\n",
        "\n",
        "* People can only keep a few items in working memory at a time.\n",
        "* Understand larger/more complicated ideas by understanding and combining pieces. Think of components of a car or understanding nature through the division into physics, chemistry, biology and all their subfields.\n",
        "* Functions serve the same purpose in programs.\n",
        "* Encapsulate complexity so that we can treat it as a single “thing”.\n",
        "* Functions also enables re-use:  write it once, use it many times.\n",
        "\n"
      ],
      "metadata": {
        "id": "g3C0uV-QRkt_"
      }
    },
    {
      "cell_type": "markdown",
      "source": [
        "For example, you might design a program that does data analysis into functional parts:\n",
        "* read in data\n",
        "* preprocess data to make it easier to analyse\n",
        "* perform analysys\n",
        "* plot results\n",
        "* save results\n",
        "\n",
        "Each of these could be their own function (or multiple functions)"
      ],
      "metadata": {
        "id": "8vUJXN51UCdQ"
      }
    },
    {
      "cell_type": "markdown",
      "source": [
        "##9.1 - Define a function using `def`\n",
        "\n",
        "* Begin the definition of a new function with `def`.\n",
        "* After `def` comes the name of the function. Function names follow the same rules as variable names (only letters, numbers and underscores; no spaces)\n",
        "* Then parameters in parentheses. If the function doesn't have any parameters, just use umpty parentheses ().\n",
        "* All function definitions must end with a colon (like if statements and loops)\n",
        "* The body of the function comes next and must be indented\n",
        "\n",
        "Here's an example:"
      ],
      "metadata": {
        "id": "XVnCwyd7RLW5"
      }
    },
    {
      "cell_type": "code",
      "source": [
        "def print_greeting():\n",
        "    print('Hello!')"
      ],
      "metadata": {
        "id": "bZUHQJxJV4Ha"
      },
      "execution_count": 2,
      "outputs": []
    },
    {
      "cell_type": "markdown",
      "source": [
        "* If you run the above cell, you will not see any output. The reason is that you need to call the function to execute it as described in the next section."
      ],
      "metadata": {
        "id": "OKfEaTItlnov"
      }
    },
    {
      "cell_type": "markdown",
      "source": [
        "## 9.2 Defining a function does not run it.\n",
        "\n",
        "* Defining a function does not run it.\n",
        "* You must call the function to execute the code it contains.\n",
        "* The implementation of the function is called \"the call\". The call for the `print_greeting` function  is made by simmply typing the function name followed by a pair of parentheses:"
      ],
      "metadata": {
        "id": "hYBkexoqWA3P"
      }
    },
    {
      "cell_type": "code",
      "execution_count": 3,
      "metadata": {
        "id": "zn8bUAAHQfFQ",
        "colab": {
          "base_uri": "https://localhost:8080/"
        },
        "outputId": "9a944dbb-3723-4454-8062-5d2b4b8c9354"
      },
      "outputs": [
        {
          "output_type": "stream",
          "name": "stdout",
          "text": [
            "Hello!\n"
          ]
        }
      ],
      "source": [
        "print_greeting()"
      ]
    },
    {
      "cell_type": "markdown",
      "source": [
        "* After running this code cell, you shoud see the greeting printed under it.\n",
        "* If you get an error, double check that you ran the code cell above containing the function definition first."
      ],
      "metadata": {
        "id": "Lt3RdFJXWh-5"
      }
    },
    {
      "cell_type": "markdown",
      "source": [
        "## 9.3 Arguments in the calling function are matched to the parameters in the definition.\n",
        "\n",
        "* Functions are most useful when they can operate on different data.\n",
        "* Specify parameters when defining a function.\n",
        "* These parameters become variables when the function is executed.\n",
        "* The parameters are assigned the arguments in the call (i.e., the values passed to the function).\n",
        "* If you don't name the arguments when using them in the call, the arguments will be matched to parameters in the order the parameters are defined in the function.\n"
      ],
      "metadata": {
        "id": "MtarrECkXPsP"
      }
    },
    {
      "cell_type": "markdown",
      "source": [
        "### 🔆 print_date() function\n",
        "\n",
        "In this example, we define a function to print a date in MM/DD/YYYY format\n",
        "* The passed parameters are the year, month and day\n",
        "* In the call to the function we pass the year 1871, the month 3 (for March) and the day 19. The order of these passed parameters matches the order `(year, month, day)` in the function definition.\n",
        "\n",
        "Run the code to see the output:"
      ],
      "metadata": {
        "id": "OwKqu7v3fMc3"
      }
    },
    {
      "cell_type": "code",
      "source": [
        "def print_date(year, month, day):\n",
        "    print(f'{month}/{day}/{year}')\n",
        "\n",
        "print_date(1871, 3, 19)"
      ],
      "metadata": {
        "id": "QwutfgZKYRuv",
        "colab": {
          "base_uri": "https://localhost:8080/"
        },
        "outputId": "36180588-523f-4f40-f236-7975cd5f515f"
      },
      "execution_count": 4,
      "outputs": [
        {
          "output_type": "stream",
          "name": "stdout",
          "text": [
            "3/19/1871\n"
          ]
        }
      ]
    },
    {
      "cell_type": "markdown",
      "source": [
        "* Or, we can name the arguments when we call the function, which allows us to specify them in any order:\n",
        "* In the following example, we pass the month first instread of the year."
      ],
      "metadata": {
        "id": "AQVrK4xVYhxj"
      }
    },
    {
      "cell_type": "code",
      "source": [
        "print_date(month=3, day=19, year=1871)"
      ],
      "metadata": {
        "id": "6dvx5PiEYmjR",
        "colab": {
          "base_uri": "https://localhost:8080/"
        },
        "outputId": "274f4b4b-b737-453b-8b79-eabf94cb5e96"
      },
      "execution_count": 5,
      "outputs": [
        {
          "output_type": "stream",
          "name": "stdout",
          "text": [
            "3/19/1871\n"
          ]
        }
      ]
    },
    {
      "cell_type": "markdown",
      "source": [
        "* You can think of the function arguments as the **ingredients** for the function, while the body contains the **recipe**."
      ],
      "metadata": {
        "id": "GXvgylIPY4kU"
      }
    },
    {
      "cell_type": "markdown",
      "source": [
        "### ✅ Skill Check 1\n",
        "\n",
        "Write a function that prints an ASCII cat face:   =^.^=\n",
        "* You might call your function `cat()` or `print_cat()`, etc.\n",
        "* Your function doesn't need to have any passed variables, since it just does one thing\n",
        "* Test your function by calling it to demonstrate that it works\n",
        "\n"
      ],
      "metadata": {
        "id": "ZsRT4OcwH91D"
      }
    },
    {
      "cell_type": "code",
      "source": [
        "# your code here\n",
        "def print_cat():\n",
        "    print(\"=^.^=\")\n",
        "\n",
        "# test\n",
        "print_cat()\n"
      ],
      "metadata": {
        "id": "THrwfETMfCh6",
        "colab": {
          "base_uri": "https://localhost:8080/"
        },
        "outputId": "b2c775c1-d85b-40f3-8652-cd8849c55637"
      },
      "execution_count": 6,
      "outputs": [
        {
          "output_type": "stream",
          "name": "stdout",
          "text": [
            "=^.^=\n"
          ]
        }
      ]
    },
    {
      "cell_type": "markdown",
      "source": [
        "## 9.4 Arguments can have default values\n",
        "* You can create a default value by setting the passed parameter equal to a value in the function definition\n",
        "* Parameters with default values cannot come before parameters without default values, i.e. they must be at the end of the parameter list"
      ],
      "metadata": {
        "id": "ljgaiknFsqHG"
      }
    },
    {
      "cell_type": "markdown",
      "source": [
        "### 🔆 Example:  weight() function\n",
        "\n",
        "This example calculates the weight of an object (in Newtons) given the object's mass.\n",
        "* An optional second parameter lets the user specifiy the acceleration of gravity if it differs from 9.8 m/s^2"
      ],
      "metadata": {
        "id": "uPl7jNzcxp8x"
      }
    },
    {
      "cell_type": "code",
      "source": [
        "def weight(m,g=9.8):\n",
        "    return m*g\n",
        "\n",
        "# weight of a 100 kg mass on Earth\n",
        "# value of g is not specified (default is used)\n",
        "# only the mass is passed to the weight() function\n",
        "W = weight(100)\n",
        "print(f\"weight on Earth = {W:.0f} Newtons\")\n",
        "\n",
        "# weight of a 100 kg mass on the Moon (where g = 1.62 m/s^2)\n",
        "# both the mass and the value of g are passed to the function\n",
        "# you could also call the function like this:  weight(100,1.62) without specifying \"g=\"\n",
        "W = weight(100,g=1.62)\n",
        "print(f\"weight on Moon = {W:.0f} Newtons\")\n"
      ],
      "metadata": {
        "id": "SNeXtm2MtEdh",
        "colab": {
          "base_uri": "https://localhost:8080/"
        },
        "outputId": "4fea547c-0dd3-4238-8d1e-30129c7bcb2f"
      },
      "execution_count": 7,
      "outputs": [
        {
          "output_type": "stream",
          "name": "stdout",
          "text": [
            "weight on Earth = 980 Newtons\n",
            "weight on Moon = 162 Newtons\n"
          ]
        }
      ]
    },
    {
      "cell_type": "markdown",
      "source": [
        "##9.5 Functions may return a result using the `return` command.\n",
        "\n",
        "* Use `return` to give a value back to the caller.\n",
        "* The `return` command can occur anywhere in the function, but..\n",
        "* Functions are easier to understand if return occurs either (1) at the start to handle special cases or (2) at the very end, with a final result.\n"
      ],
      "metadata": {
        "id": "wr2z-wdxZSey"
      }
    },
    {
      "cell_type": "markdown",
      "source": [
        "### 🔆 Example:  Kinetic Energy\n",
        "\n",
        "* This example calculates and returns the kinetic energy of a particle given its mass and velocity."
      ],
      "metadata": {
        "id": "V3EP2q2AU-UR"
      }
    },
    {
      "cell_type": "code",
      "source": [
        "# define a function to calculate the kinetic energy\n",
        "# given the mass m and velocity v\n",
        "#\n",
        "def KE(m,v):\n",
        "    return 1.5 * m * v**2\n",
        "\n",
        "m = 100           # mass in kg\n",
        "v = 10            # velocity in m/s\n",
        "my_KE = KE(m,v)   # calculate kinetic energy\n",
        "\n",
        "print(f'Kinetic energy = {my_KE}')"
      ],
      "metadata": {
        "id": "352mFoydbNOC",
        "colab": {
          "base_uri": "https://localhost:8080/"
        },
        "outputId": "c0e4255d-5036-4040-a24e-ffb1e4457db4"
      },
      "execution_count": 9,
      "outputs": [
        {
          "output_type": "stream",
          "name": "stdout",
          "text": [
            "Kinetic energy = 15000.0\n"
          ]
        }
      ]
    },
    {
      "cell_type": "markdown",
      "source": [
        "### ✅ Skill Check 2\n",
        "\n",
        "Once a function is defined, it can be used as many times as you want.\n",
        "* Use the `KE()` function to calculate the kinetic energy of a particle with mass 2 kg and a velocity 5 m/s.\n",
        "* Print and label your result"
      ],
      "metadata": {
        "id": "TEDR9zA0ojYO"
      }
    },
    {
      "cell_type": "code",
      "source": [
        "# your code here\n",
        "def KE(m, v):\n",
        "    return 0.5 * m * v**2   # corrected physics formula\n",
        "\n",
        "m_test, v_test = 2, 5\n",
        "ke_val = KE(m_test, v_test)\n",
        "print(f\"Kinetic energy for m={m_test} kg, v={v_test} m/s is {ke_val} J\")\n",
        "\n"
      ],
      "metadata": {
        "id": "CgOY4k-mpZ4p",
        "colab": {
          "base_uri": "https://localhost:8080/"
        },
        "outputId": "faeec558-01da-4e04-89eb-4ca9bd4d233d"
      },
      "execution_count": 10,
      "outputs": [
        {
          "output_type": "stream",
          "name": "stdout",
          "text": [
            "Kinetic energy for m=2 kg, v=5 m/s is 25.0 J\n"
          ]
        }
      ]
    },
    {
      "cell_type": "markdown",
      "source": [
        "### ✅ Skill Check 3\n",
        "\n",
        "Write a function the calculates and returns the equivalent resistance of two resistors wired in parallel:  $\\frac{1}{R_{eq}}=\\frac{1}{R_1} + \\frac{1}{R_1}$.\n",
        "* Test your function by calculating the equivalent resistance of resisters whose resistances are 10 $\\Omega$ and 20 $\\Omega$, respectively"
      ],
      "metadata": {
        "id": "MXmcuswnEDVt"
      }
    },
    {
      "cell_type": "code",
      "source": [
        "# your code here\n",
        "def R_parallel(R1, R2):\n",
        "    return 1.0 / (1.0/R1 + 1.0/R2)\n",
        "\n",
        "print(\"Req(10Ω, 20Ω) =\", R_parallel(10, 20), \"ohms\")\n"
      ],
      "metadata": {
        "id": "4jUNAkRee8ew",
        "colab": {
          "base_uri": "https://localhost:8080/"
        },
        "outputId": "863460da-3d19-4386-9a17-306b705923e6"
      },
      "execution_count": 11,
      "outputs": [
        {
          "output_type": "stream",
          "name": "stdout",
          "text": [
            "Req(10Ω, 20Ω) = 6.666666666666666 ohms\n"
          ]
        }
      ]
    },
    {
      "cell_type": "markdown",
      "source": [
        "##9.6 Write functions robustly, so they can handle all the ways a user might use them\n",
        "\n",
        "* In the previous example we saw that the `average()` function threw an error if we passed it an empty array.\n",
        "* Let's modify our function so that it can handle empty arrays.\n",
        "* We'll test to see if the length of the passed list is zero and return a `None` if it is.\n"
      ],
      "metadata": {
        "id": "ZUD-rS4ma_gQ"
      }
    },
    {
      "cell_type": "markdown",
      "source": [
        "### 🔆 Average() function\n",
        "\n",
        "* Here's our function that takes the average of a list of numeric values\n",
        "* It checks to make sure the list isn't empty by making sure the length of the list is  > 0\n",
        "* If the passed list is empty, the function will return `None` instead of a numeric value"
      ],
      "metadata": {
        "id": "WQ-_RfKIe2V8"
      }
    },
    {
      "cell_type": "code",
      "source": [
        "def average(values):\n",
        "    if len(values) == 0:              # check to see if passed array is empty\n",
        "        return None\n",
        "    return sum(values) / len(values)\n",
        "\n",
        "print('average of empty list:', average([]))"
      ],
      "metadata": {
        "id": "0ZLABgPaZ6Fo",
        "colab": {
          "base_uri": "https://localhost:8080/"
        },
        "outputId": "2e64d1a8-6690-48b5-ed8c-1d71b1e00622"
      },
      "execution_count": 12,
      "outputs": [
        {
          "output_type": "stream",
          "name": "stdout",
          "text": [
            "average of empty list: None\n"
          ]
        }
      ]
    },
    {
      "cell_type": "markdown",
      "source": [
        "* Every function returns something.\n",
        "* A function that doesn't explicitly return a value automatically returns None.\n"
      ],
      "metadata": {
        "id": "rPSP86LqaXA4"
      }
    },
    {
      "cell_type": "markdown",
      "source": [
        "## 9.7 Use functions to modularize your code\n",
        "\n",
        "It is tempting to just start writing the final version of your code that does everything you want. However experience suggests that (for all except the simplest programs) it is better to break your code into pieces and test each piece before combining them together into your final program.\n",
        "* This philosophy is like experimental physics:  only vary one variable at a time\n",
        "* It is much harder to debug a program that has multiple errors instead of just one.\n",
        "* Writing functions to handle dedicated tasks allows you to fully test each function before combining them into more complex applications\n",
        "\n",
        "Here's an example that shows how a function can help simplify code:"
      ],
      "metadata": {
        "id": "bYkcbODCfznZ"
      }
    },
    {
      "cell_type": "markdown",
      "source": [
        "### 🔆 Example:  Spring Force\n",
        "\n",
        "The function `spring_force()` calculates the force in 3D space applied by a spring with spring constant `k`. In vector form, the spring force is given by\n",
        "$\\vec{F}=-k(\\vec{r}-\\vec{r}_0)$.\n",
        "\n",
        "Passed parameters:\n",
        "\n",
        "* `r0` = NumPy array containing x, y, z components of position where the spring is anchored\n",
        "* `r` = NumPy array containing x, y, z components of the other end of the spring (where the force is calculated)\n",
        "* `k` = spring constant\n",
        "\n",
        "Returned array:\n",
        "* `F` = NumPy array containing x, y, z components of the force exerted by the spring"
      ],
      "metadata": {
        "id": "D5-ghTd4f5q2"
      }
    },
    {
      "cell_type": "code",
      "source": [
        "import numpy as np\n",
        "\n",
        "def spring_force(r,r0,k):\n",
        "    d = r-r0                 # vector displacement of spring (r0 to r)\n",
        "    F = -k*d                 # vector force acting on point r\n",
        "    return F\n",
        "\n",
        "r  = np.array([1,1,0])       # 3D position of end of spring\n",
        "r0 = np.array([0,0,0])       # 3D position where spring is anchored\n",
        "k  = 2                       # spring force\n",
        "\n",
        "F0 = spring_force(r,r0,k)    # calculate and print the spring force\n",
        "print(\"force = \",F0)"
      ],
      "metadata": {
        "id": "WK8iLWnfgTil",
        "colab": {
          "base_uri": "https://localhost:8080/"
        },
        "outputId": "e4cf9652-6862-431e-82c5-2dc40a4d6c47"
      },
      "execution_count": 13,
      "outputs": [
        {
          "output_type": "stream",
          "name": "stdout",
          "text": [
            "force =  [-2 -2  0]\n"
          ]
        }
      ]
    },
    {
      "cell_type": "markdown",
      "source": [
        "Running this code shows that the spring pulls the free end, down and to the left (both x and y are negative).\n",
        "\n",
        "We can now use our spring function to add a second spring at (2,0,0) and calculate the net force.\n",
        "* This time, we'll pass the position vector of the second spring's anchor [2,0,0] directly to the function."
      ],
      "metadata": {
        "id": "El9Q3VUAgtfL"
      }
    },
    {
      "cell_type": "code",
      "source": [
        "\n",
        "# Calculate force from a second spring\n",
        "F1 = spring_force(r,[2,0,0],k)\n",
        "\n",
        "# add the two spring forces to get net force\n",
        "Fnet = F0 + F1\n",
        "\n",
        "print(\"first force  = \",F1)\n",
        "print(\"second force = \",F1)\n",
        "print(\"net force    = \",Fnet)"
      ],
      "metadata": {
        "id": "LP-sYslUz_4A",
        "colab": {
          "base_uri": "https://localhost:8080/"
        },
        "outputId": "c0a2c203-262f-49a0-be54-8ba05e805f36"
      },
      "execution_count": 14,
      "outputs": [
        {
          "output_type": "stream",
          "name": "stdout",
          "text": [
            "first force  =  [ 2 -2  0]\n",
            "second force =  [ 2 -2  0]\n",
            "net force    =  [ 0 -4  0]\n"
          ]
        }
      ]
    },
    {
      "cell_type": "markdown",
      "source": [
        "* We see that the second force pulls down and to the right.\n",
        "* The net force pulls straight down since the x components of the first two forces cancel"
      ],
      "metadata": {
        "id": "jmYV9duVtOH0"
      }
    },
    {
      "cell_type": "markdown",
      "source": [
        "### ✅ Skill Check 4\n",
        "\n",
        "* Calculate the net force due to a set of 24 springs anchored to and uniformly arranged on the unit circle in the x-y plane.\n",
        "* Let the free ends of the springs be at (5,0,5).\n",
        "\n"
      ],
      "metadata": {
        "id": "RoVEcLietubL"
      }
    },
    {
      "cell_type": "code",
      "source": [
        "import numpy as np\n",
        "\n",
        "def spring_force(r, r0, k):\n",
        "    d = np.array(r) - np.array(r0)\n",
        "    return -k * d\n",
        "\n",
        "k = 1.0\n",
        "r_free = np.array([5.0, 0.0, 5.0])\n",
        "N = 24\n",
        "\n",
        "anchors = []\n",
        "for n in range(N):\n",
        "    theta = 2*np.pi*n/N\n",
        "    anchors.append([np.cos(theta), np.sin(theta), 0.0])\n",
        "\n",
        "Fnet = np.zeros(3)\n",
        "for r0 in anchors:\n",
        "    Fnet += spring_force(r_free, r0, k)\n",
        "\n",
        "print(\"Net force from 24 springs:\", Fnet)\n"
      ],
      "metadata": {
        "colab": {
          "base_uri": "https://localhost:8080/"
        },
        "id": "X7lML0sQIGa0",
        "outputId": "dbbf92ee-58c9-41da-90a7-6e806ccad69d"
      },
      "execution_count": 15,
      "outputs": [
        {
          "output_type": "stream",
          "name": "stdout",
          "text": [
            "Net force from 24 springs: [-1.20000000e+02 -1.27675648e-15 -1.20000000e+02]\n"
          ]
        }
      ]
    },
    {
      "cell_type": "markdown",
      "source": [
        "### ✅ Skill Check 5\n",
        "\n",
        "Write a function to calculate and return the electric field at position `r` given a point charge `q` at position `r0`. Assume `r` and `r0` are  NumPy arrays, each with length 3 whose elements are the x, y, z components. Hint: a convient way of writing the electric field from a point charge is\n",
        "$\\vec{E} = \\frac{1}{4 \\pi \\epsilon_0} \\frac{\\vec{r}-\\vec{r}_0}{|\\vec{r}-\\vec{r}_0|^3}$.\n",
        "\n",
        "Passed parameters:\n",
        "* `r` = NumPy array (length 3) containing x, y, z components\n",
        "* `r0` = NumPy array (length 3) containing x, y, z components of the point charge\n",
        "* `q0` = charge of the point charge\n",
        "\n",
        "Returned values:\n",
        "* `E` = electrostatic force vector\n",
        "\n",
        "Test your function with the following passed parameters:\n",
        "* `r  = (10,0,2)`\n",
        "* `r0 = (0,0,0)`\n",
        "* `q0 = 1e-6`\n",
        "\n",
        "print the electric field vector."
      ],
      "metadata": {
        "id": "5gTATfuGMZhg"
      }
    },
    {
      "cell_type": "code",
      "source": [
        "#  Your code here\n",
        "import numpy as np\n",
        "\n",
        "def E_point(r, r0, q0):\n",
        "    eps0 = 8.8541878128e-12\n",
        "    k = 1.0/(4.0*np.pi*eps0)\n",
        "    R = np.array(r) - np.array(r0)\n",
        "    Rmag = np.linalg.norm(R)\n",
        "    return k * q0 * R / (Rmag**3)\n",
        "\n",
        "r  = (10.0, 0.0, 2.0)\n",
        "r0 = (0.0, 0.0, 0.0)\n",
        "q0 = 1e-6\n",
        "E = E_point(r, r0, q0)\n",
        "print(\"E(r) from point charge =\", E, \"N/C\")\n"
      ],
      "metadata": {
        "id": "OJXsOLelrBIs",
        "colab": {
          "base_uri": "https://localhost:8080/"
        },
        "outputId": "5f1e775d-c1ff-4261-d131-ac2e26f9c641"
      },
      "execution_count": 16,
      "outputs": [
        {
          "output_type": "stream",
          "name": "stdout",
          "text": [
            "E(r) from point charge = [84.74057317  0.         16.94811463] N/C\n"
          ]
        }
      ]
    },
    {
      "cell_type": "markdown",
      "source": [
        "### ✅ SKill Check 6\n",
        "\n",
        "Use the electric field function defined is Skill Check 5 to calculate the electric field from a dipole, made of the following two charges:\n",
        "* charge 1:  $q1=+10^{-6}$ C at $\\vec{r}_1 = (0,0,0.1m)$\n",
        "* charge 2:  $q1=-10^{-6}$ C at $\\vec{r}_1 = (0,0,-0.1m)$\n",
        "\n",
        "Calculate the field at the following locations and print the results:\n",
        "\n",
        "a) $\\vec{r} = (10m,0,0)$\n",
        "\n",
        "b) $\\vec{r} = (10m,0,10m)$\n",
        "\n",
        "c) $\\vec{r} = (0,0,10m)$\n",
        "\n",
        "d) $\\vec{r} = (0,0,-10m)$\n",
        "\n",
        "Do your results make sense?"
      ],
      "metadata": {
        "id": "gR6DR4kyb0Vn"
      }
    },
    {
      "cell_type": "code",
      "source": [
        "import numpy as np\n",
        "\n",
        "q = 1e-6\n",
        "r1 = (0.0, 0.0,  0.1)   # +q\n",
        "r2 = (0.0, 0.0, -0.1)   # -q\n",
        "\n",
        "def E_point(r, r0, q0):\n",
        "    eps0 = 8.8541878128e-12\n",
        "    k = 1.0/(4.0*np.pi*eps0)\n",
        "    R = np.array(r) - np.array(r0)\n",
        "    Rmag = np.linalg.norm(R)\n",
        "    return k * q0 * R / (Rmag**3)\n",
        "\n",
        "test_points = {\n",
        "    \"a) (10,0,0)\"   : (10.0, 0.0,  0.0),\n",
        "    \"b) (10,0,10)\"  : (10.0, 0.0, 10.0),\n",
        "    \"c) (0,0,10)\"   : ( 0.0, 0.0, 10.0),\n",
        "    \"d) (0,0,-10)\"  : ( 0.0, 0.0,-10.0),\n",
        "}\n",
        "\n",
        "for label, r in test_points.items():\n",
        "    E = E_point(r, r1, +q) + E_point(r, r2, -q)\n",
        "    print(label, \"  E =\", E, \"N/C\")\n"
      ],
      "metadata": {
        "id": "TqFSoBOiIPyK",
        "outputId": "f86ffb1b-dbaa-4ecc-b5ba-11f1e9019ff2",
        "colab": {
          "base_uri": "https://localhost:8080/"
        }
      },
      "execution_count": 18,
      "outputs": [
        {
          "output_type": "stream",
          "name": "stdout",
          "text": [
            "a) (10,0,0)   E = [ 0.          0.         -1.79724077] N/C\n",
            "b) (10,0,10)   E = [0.95329368 0.         0.3177063 ] N/C\n",
            "c) (0,0,10)   E = [0.         0.         3.59573983] N/C\n",
            "d) (0,0,-10)   E = [0.         0.         3.59573983] N/C\n"
          ]
        }
      ]
    },
    {
      "cell_type": "markdown",
      "source": [
        "### ✅ Skill Check 7\n",
        "\n",
        "Write a function that generates a noisy sine wave. Here are the specs:\n",
        "\n",
        "Passed parameters:\n",
        "* signal-to-noise ratio\n",
        "* Number of data points (default value = 200)\n",
        "* maximum time (default value = 1)\n",
        "* period of sine wave (default value = 1)\n",
        "* sine wave amplitude (default value = 1)\n",
        "* verbose flag (default value = True, which prints mean and standard deviation of dataset. If False, no message is printed).\n",
        "\n",
        "Returned values:\n",
        "* 2D array where first column = times and second column = noisy sine wave values\n",
        "\n",
        "The noisy sine wave can be written as $y = B z_{norm} + A\\sin(2\\pi t/ P)$, where\n",
        "* $z_{norm}=$ random number drawn from normal distribution with mean = 0 and standard deviation = 1.\n",
        "* $B=$ amplitude of noise\n",
        "* $A = $ amplitude of the sine wave\n",
        "* $t=$ time\n",
        "* $P=$ period of sine wave\n",
        "\n",
        "The signal-to-noise ratio (SNR) is given by $SNR = A/B$. Since both $A$ and $SNR$ are specified as passed parameters, you will need to calculate $B$ using this formula.\n",
        "\n",
        "Comments have been created describing how to use the noisy_sin() function.\n",
        "\n",
        "Run your code (with the verbose flag = True) for the following parameter combinations:\n",
        "* ```noisy_sin(1)```\n"
      ],
      "metadata": {
        "id": "WMKw2rdoo2Ae"
      }
    },
    {
      "cell_type": "code",
      "source": [
        "import numpy as np\n",
        "\n",
        "# noisy_sin() function returns a noisy sine wave\n",
        "#\n",
        "# passed parameters:\n",
        "#    SNR     = signal-to-noise ratio\n",
        "#    N       = number of data points\n",
        "#    tmax    = maximum time\n",
        "#    P       = period of sine wave\n",
        "#    A       = amplitude of sine wave\n",
        "#    verbose = flag to print statistics about the generated wave\n",
        "#\n",
        "# returned parameters:\n",
        "#    data    = 2D array where: column 1 = time values,\n",
        "#                              column 2 = noise sine wave values\n",
        "#\n",
        "\n",
        "\n",
        "# your code here\n",
        "\n",
        "import numpy as np\n",
        "\n",
        "def noisy_sin(SNR, N=200, tmax=1.0, P=1.0, A=1.0, verbose=True):\n",
        "    \"\"\"\n",
        "    Returns a (N,2) array where:\n",
        "      col 0 = time, col 1 = A*sin(2π t/P) + noise\n",
        "    SNR = A / B  ->  B = A / SNR\n",
        "    \"\"\"\n",
        "    t = np.linspace(0.0, tmax, N)\n",
        "    B = A / float(SNR) if SNR != 0 else 0.0\n",
        "    noise = B * np.random.normal(loc=0.0, scale=1.0, size=N)\n",
        "    y = A*np.sin(2*np.pi*t/P) + noise\n",
        "    data = np.column_stack([t, y])\n",
        "    if verbose:\n",
        "        print(f\"N={N}, tmax={tmax}, P={P}, A={A}, SNR={SNR}, B(noise amp)={B}\")\n",
        "        print(f\"mean={np.mean(y):.4f}, std={np.std(y):.4f}\")\n",
        "    return data\n",
        "\n",
        "# Example run:\n",
        "_ = noisy_sin(1)\n"
      ],
      "metadata": {
        "id": "8fdeLsz01Ng_",
        "colab": {
          "base_uri": "https://localhost:8080/"
        },
        "outputId": "7350b717-73bf-4fde-c10f-547f47d17d0b"
      },
      "execution_count": 20,
      "outputs": [
        {
          "output_type": "stream",
          "name": "stdout",
          "text": [
            "N=200, tmax=1.0, P=1.0, A=1.0, SNR=1, B(noise amp)=1.0\n",
            "mean=0.0790, std=1.3022\n"
          ]
        }
      ]
    },
    {
      "cell_type": "markdown",
      "source": [
        "### **Key Points**\n",
        "\n",
        "* Break programs into functions to make them easier to undertsand\n",
        "* Functions are created with a `def` statement, and the body is indented\n",
        "* Defining a function does not run it. You need to call the function once it is defined\n",
        "* Arguments in the calling function are matched to the parameters in the definition\n",
        "* Alternatively, if you name the arguments when you call the function, you can pass them in any order\n",
        "* Functions may return a result using the `return` statement\n",
        "* Write functions robustly, so they can handle all the ways a user might use them\n",
        "* Use functions to modularize your code"
      ],
      "metadata": {
        "id": "yLLbwG8KOwuy"
      }
    },
    {
      "cell_type": "markdown",
      "source": [
        "This tutorial is an adaptation of \"[Python for Physicists](https://lucydot.github.io/python_novice/)\"\n",
        "© [Software Carpentry](http://software-carpentry.org/)\n"
      ],
      "metadata": {
        "id": "5pnXdFvAhvCZ"
      }
    }
  ]
}