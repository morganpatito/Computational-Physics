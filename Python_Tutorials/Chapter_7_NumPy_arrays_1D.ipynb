{
  "nbformat": 4,
  "nbformat_minor": 0,
  "metadata": {
    "colab": {
      "provenance": [],
      "toc_visible": true,
      "authorship_tag": "ABX9TyNgrIENv4MpnMlbq09vu+nk",
      "include_colab_link": true
    },
    "kernelspec": {
      "name": "python3",
      "display_name": "Python 3"
    },
    "language_info": {
      "name": "python"
    }
  },
  "cells": [
    {
      "cell_type": "markdown",
      "metadata": {
        "id": "view-in-github",
        "colab_type": "text"
      },
      "source": [
        "<a href=\"https://colab.research.google.com/github/dchappell2/Computational-Physics/blob/main/Python_Tutorials/Chapter_7_NumPy_arrays_1D.ipynb\" target=\"_parent\"><img src=\"https://colab.research.google.com/assets/colab-badge.svg\" alt=\"Open In Colab\"/></a>"
      ]
    },
    {
      "cell_type": "markdown",
      "source": [
        "#Chapter 7 - NumPy Arrays - 1D\n",
        "\n",
        "Goals\n",
        "* Create, use and modify NumPy arrays\n",
        "* Understand the similarities and differences between NumPy arrays and Python lists\n",
        "* Know when to use NumPy arrays and when to use Lists\n",
        "* Become proficient using NumPy arrays, functions and methods to perform mathematical calculations\n",
        "\n",
        "\n",
        "\n",
        "\n"
      ],
      "metadata": {
        "id": "jLfkkSpUxQqK"
      }
    },
    {
      "cell_type": "markdown",
      "source": [
        "## **7.0 Similarities and differences between NumPy Arrays and Python Lists**\n",
        "\n",
        "Similarities:\n",
        "* Both can hold ordered sequences of elements\n",
        "* Both are indexable and sliceable:  `x[0]`, `x[1:5]`, etc.\n",
        "* Both can be iterated over with loops\n",
        "\n",
        "\n",
        "Differences:\n",
        "* NumPy arrays can only hold one data type (i.e. floats or ints), whereas Lists can hold mixed data types (floats, ints, strings, etc.) in the same list. This fact means NumPy arrays use less computer memory.\n",
        "* NumPy arrays cannot be extended after they are created. Their length is fixed.\n",
        "* They have built-in vectorized operations that allow calculations on all elements without for loops (see below)\n",
        "* NumPy arrays contain lots of built-in mathematical functions written in C (and are thus fast) for linear algebra, statistics, reshaping, etc.\n",
        "* NumPy arrays can be 2D, 3D, 4D, etc. for higher-dimensional calculations\n",
        "\n",
        "**Bottom Line:  Use NumPy arrays instead of Python Lists when you need to perform mathematical calculations, need multidimensional support or want access to NumPy merthods and functionality.**\n",
        "\n",
        "NumPy arrays can be used to store any sequence of numbers. Here are some examples of the many ways they might be used:\n",
        "* To store vector components in 2D, 3D, 4D, etc. space. Each element of the array represents a vector component in space\n",
        "* To store multiple measurements of the same variable\n",
        "* To store measurements made over time\n",
        "\n",
        "\n",
        "\n"
      ],
      "metadata": {
        "id": "Na0hyEZfHCa1"
      }
    },
    {
      "cell_type": "markdown",
      "source": [
        "## **7.1 - Use the NumPy `.array()` method to create a NumPy array from a list**\n",
        "\n",
        "* The NumPy library has lots of methods for creating, modifying and analyzing arrays.\n",
        "* Before using NumPy arrays, we need to import the NumPy library and (as usual) call it by its nickname, `np`. The import command only needs to be run once per Jypyter notebook.\n",
        "* We'll then pass a list of numbers to the `.array()` method and assign it to a variable:\n",
        "\n"
      ],
      "metadata": {
        "id": "UrXFxaCLYh3-"
      }
    },
    {
      "cell_type": "code",
      "source": [
        "import numpy as np                                  # import the NumPy library and assign nickname \"np\"\n",
        "\n",
        "my_array = np.array([10, 20, 30, 40, 50])           # create a NumPy array from a Python List\n",
        "print(\"my_array has data type = \",type(my_array))\n",
        "print(\"first element of my_array (index = 0) is \",my_array[0])\n"
      ],
      "metadata": {
        "id": "rCqtkq8mmCq1"
      },
      "execution_count": null,
      "outputs": []
    },
    {
      "cell_type": "markdown",
      "source": [
        "* Like Python lists, NumPy arrays start at index 0\n",
        "* Notice that NumPy arrays are a new data type called `numpy.ndarray`, which stands for a N-dimensional array (NumPy arrays can have any number of dimensions).\n",
        "* Also notice that we use square brackets (same used for Python lists) to access elements of a NumPy Array\n",
        "\n"
      ],
      "metadata": {
        "id": "YzI3-WxKMgI5"
      }
    },
    {
      "cell_type": "markdown",
      "source": [
        "## 7.2 **Use `.copy()` to copy NumPy arrays**\n",
        "\n",
        "* Like Python Lists, the assignment operator only creates an alias to a NumPy array.\n",
        "* To make a true copy (also called a \"deep copy\"), you need to use the `.copy()` method:\n"
      ],
      "metadata": {
        "id": "byXv9rP0BtNm"
      }
    },
    {
      "cell_type": "code",
      "source": [
        "#####  Create an Alias\n",
        "A = np.array([1, 1, 1, 1])\n",
        "B = A                        # B is an alias of A\n",
        "B[-1] = 2                    # modifying B affects A\n",
        "print()\n",
        "print(\"B is alias of A:\")\n",
        "print(\"A = \",A)              # A will show changes applied to B\n",
        "print(\"B = \",B)\n",
        "\n",
        "#####  Deep Copy Example\n",
        "A = np.array([1, 1, 1, 1])\n",
        "B = A.copy()                 # B and A are independent arrays (a deep copy)\n",
        "B[-1] = 2                    # modifying B does not affect A\n",
        "print()\n",
        "print(\"Deep copy:\")\n",
        "print(\"A = \",A)              # A will not show changes applied to B\n",
        "print(\"B = \",B)"
      ],
      "metadata": {
        "id": "H2PumeWoCI4U"
      },
      "execution_count": null,
      "outputs": []
    },
    {
      "cell_type": "markdown",
      "source": [
        "##**7.3 - NumPy array elements can be accessed and modified using square brackets and slicing**\n"
      ],
      "metadata": {
        "id": "KC90RP9rBqvA"
      }
    },
    {
      "cell_type": "code",
      "source": [
        "# display the first n elements of my_array\n",
        "my_array = np.array([10, 20, 30, 40, 50])\n",
        "n = 3\n",
        "print(\"first\",n,\"elements of my_array are\",my_array[:n])"
      ],
      "metadata": {
        "id": "iu2xY_EpNa31"
      },
      "execution_count": null,
      "outputs": []
    },
    {
      "cell_type": "markdown",
      "source": [
        "* NumPy arrays are mutable, so you can modify their elements:"
      ],
      "metadata": {
        "id": "uI79yKHYRqCK"
      }
    },
    {
      "cell_type": "code",
      "source": [
        "# reassign the first element of my_array\n",
        "my_array[0] = 100\n",
        "print(\"my_array is now\",my_array)"
      ],
      "metadata": {
        "id": "534wUPl8RasD"
      },
      "execution_count": null,
      "outputs": []
    },
    {
      "cell_type": "markdown",
      "source": [
        "### ✅ Skill Check 1\n",
        "\n",
        "Given the following list, do the following:\n",
        "* Convert it to a numpy array and name it `x`\n",
        "* Create a deep copy of `x` and name it `y`\n",
        "* Set all the elements of `y` to 0\n",
        "* Print the first 3 elements of both `x` and `y`, labeling the arrays accordingly."
      ],
      "metadata": {
        "id": "GwtT-fXv_wZj"
      }
    },
    {
      "cell_type": "code",
      "source": [
        "my_list = [3,6,9,12]\n",
        "\n",
        "# Enter your code here\n"
      ],
      "metadata": {
        "id": "nzu4yZbtEy6d"
      },
      "execution_count": null,
      "outputs": []
    },
    {
      "cell_type": "markdown",
      "source": [
        "## **7.4 Basic operations on NumPy arrays will be applied to all elements of the array**\n",
        "\n",
        "* The following examples are called \"**element-wise**\" operations since a given operator acts on each array, element by element.\n",
        "* They are also sometimes called \"**vectorized**\" operations, since you can think of the array elements as components of a vector and operations on them apply to all their vector components.\n",
        "* Let's look at a simple example of squaring each element of a NumPy array:"
      ],
      "metadata": {
        "id": "GM3_sXPuoL06"
      }
    },
    {
      "cell_type": "code",
      "source": [
        "A = np.array([3, 6, 9, 12])   # define a NumPy array from a list\n",
        "A2 = A**2                     # square each element\n",
        "print(\"square of A = \",A2)    # display the result"
      ],
      "metadata": {
        "id": "1DWi4LMjos3e"
      },
      "execution_count": null,
      "outputs": []
    },
    {
      "cell_type": "markdown",
      "source": [
        "* We see that the `A2` array contains the square of each element of `A`.\n",
        "* The above code is equiavlant to squaring each element in the array in a for loop. However, for loops can be much slower than the vectorized operations (especially when applied to large arrays) because vectorized operations are written in C, instead of Python.\n",
        "\n",
        "\n",
        "\n",
        "\n"
      ],
      "metadata": {
        "id": "AymggIOvEwmQ"
      }
    },
    {
      "cell_type": "markdown",
      "source": [
        "### 🔆 Example:  Squaring elements in an array\n",
        "\n",
        "* The following two examples give the same result, but the first, vectorized, method is more computationally efficient:"
      ],
      "metadata": {
        "id": "0qy1RePy9j1c"
      }
    },
    {
      "cell_type": "code",
      "source": [
        "##### The following two code snippets perform the same operation:\n",
        "\n",
        "# define a NumPy array from a list\n",
        "A = np.array([1, 2, 3, 4])\n",
        "\n",
        "#####  vectorized method:  square each term in A with single command. FASTER\n",
        "A2 = A**2\n",
        "print(\"method 1:  A^2 = \",A2)\n",
        "\n",
        "#####  Python loop:  each element squared \"by hand\". SLOWER\n",
        "for i in range(len(A)):\n",
        "    A[i] = A[i]**2\n",
        "print(\"method 2:  A^2 = \",A)\n"
      ],
      "metadata": {
        "id": "40bNfMevSv4I"
      },
      "execution_count": null,
      "outputs": []
    },
    {
      "cell_type": "markdown",
      "source": [
        "### 🔆 Example: Multiplying NumPy arrays\n",
        "\n",
        "---\n",
        "\n",
        "\n",
        "\n",
        "If `x` and `y` are two equal-length NumPy arrays, we can calculate the element-wise product by simply multiplying the arrays:"
      ],
      "metadata": {
        "id": "9ubiQZWL-vic"
      }
    },
    {
      "cell_type": "code",
      "source": [
        "x = np.array([1,2,4,8])  # NumPy array (length 4)\n",
        "y = np.array([3,0,1,1])  # NumPy array (length 4)\n",
        "\n",
        "z = x*y                  # element-wise product of x and y\n",
        "print(\"x*y = \",z)        # result is also length 4"
      ],
      "metadata": {
        "id": "XOW7BlGJ-wkN"
      },
      "execution_count": null,
      "outputs": []
    },
    {
      "cell_type": "markdown",
      "source": [
        "* This operation multiplies the first element of each array and stores it in the first element of `z`, and so on.\n",
        "* Examine the x,y and z arrays to make sure the result makes sense.\n",
        "* We can also multiply an array by a float (or integer) variable like this:"
      ],
      "metadata": {
        "id": "Goyv8p9c_WKn"
      }
    },
    {
      "cell_type": "code",
      "source": [
        "x = np.array([1,2,4,8])  # NumPy array (length 4)\n",
        "a = 10.                  # variable containing a floating-point number\n",
        "\n",
        "z = a*x                  # multiply each element of x by a\n",
        "print(\"x*y = \",z)        # result is also length 4"
      ],
      "metadata": {
        "id": "-iYcFFMA_qqM"
      },
      "execution_count": null,
      "outputs": []
    },
    {
      "cell_type": "markdown",
      "source": [
        "**Note: Multiplying two arrays that have different lengths will produce an error:**\n",
        "\n",
        "```\n",
        "x = np.array([1, 2, 0, 2])   # array containing 4 elements\n",
        "y = np.array([1, 3])         # array containing 2 elements\n",
        "\n",
        "z = x*y                      # attempting to multiply x*y gives an error!!!\n",
        "\n",
        "```\n",
        "\n"
      ],
      "metadata": {
        "id": "GsUt6vroDbVE"
      }
    },
    {
      "cell_type": "markdown",
      "source": [
        "### ✅ Skill Check 2\n",
        "\n",
        "Without running the following code, try to predict what the print statement will display. Enter your answer in a Text Cell below. If you want, you can copy and paste the code in a Code Cell to see if your calculations are correct:\n",
        "\n",
        "\n",
        "\n",
        "```\n",
        "x = np.array([1, 2, 1, 2])\n",
        "y = np.array([1, 0, 2, 0])\n",
        "a1 = 2\n",
        "a2 = 4             \n",
        "z = a1*x**2 + a2*x*y      \n",
        "print(\"The array z = \",z)\n",
        "```\n",
        "\n",
        "\n",
        "\n"
      ],
      "metadata": {
        "id": "GPShHu38Jeaa"
      }
    },
    {
      "cell_type": "markdown",
      "source": [
        "Enter your response here\n"
      ],
      "metadata": {
        "id": "V_LrUkwStJvO"
      }
    },
    {
      "cell_type": "markdown",
      "source": [
        "### 7.5 Common NumPy Math Functions\n",
        "\n",
        "The following list of mathematical NumPy functions were given in Chapter 3. We repeat the list here because they are vectorized and operation on NumPy arrays in additon to scalar numbers."
      ],
      "metadata": {
        "id": "pjNj5MeB7SmD"
      }
    },
    {
      "cell_type": "code",
      "source": [
        "x = [.1, .2, .3, .4, .5]   # define a NumPy array for x\n",
        "\n",
        "# constants\n",
        "np.pi          # pi\n",
        "np.e           # e\n",
        "np.inf         # infinity\n",
        "np.nan         # not a number\n",
        "\n",
        "# logarithmic and exponential functions\n",
        "np.sqrt(x)     # square root(x)\n",
        "np.exp(x)      # e^x\n",
        "np.log(x)      # ln(x)\n",
        "np.log10(x)    # log base 10(x)\n",
        "np.log2(x)     # log base 2(x)\n",
        "\n",
        "# trigonometric functions\n",
        "np.sin(x)      # sin(x)\n",
        "np.cos(x)      # cos(x)\n",
        "np.tan(x)      # tan(x)\n",
        "\n",
        "# degree-radian conversions\n",
        "np.deg2rad(x)  # converts degrees to radians\n",
        "np.rad2deg(x)  # converts radians to degrees\n",
        "\n",
        "# inverse trigonometric functions\n",
        "np.asin(x)     # np.arcsin(x) also works for the arcsin() of a value\n",
        "np.acos(x)     # np.arccos(x) also works\n",
        "np.atan(x)     # np.arctan(x) also works\n",
        "np.atan2(y,x)  # passing the x and y vector components lets the atan2()\n",
        "               # function return an angle in the correct quadrant\n",
        "\n",
        "# hyperbolic functions\n",
        "np.sinh(x)     # hyperbolic sin\n",
        "np.cosh(x)     # hyperbolic cos\n",
        "np.tanh(x)     # hyperbolic tan\n"
      ],
      "metadata": {
        "id": "8Wmos6DesVnz"
      },
      "execution_count": null,
      "outputs": []
    },
    {
      "cell_type": "markdown",
      "source": [
        "### 🔆  Example:  Applying the sin() function to a NumPy array\n",
        "\n",
        "* Most NumPy functions will operate on the elements of NumPy arrays.\n",
        "* For example, if we have some angles stored in an array, we can take the `sin()` of each angle using a single statement:"
      ],
      "metadata": {
        "id": "1znBD5zy9hJh"
      }
    },
    {
      "cell_type": "code",
      "source": [
        "theta_deg = np.array([0, 10, 20, 30, 40, 50])   # angles in degrees\n",
        "theta_rad = np.deg2rad(theta_deg)               # convert the anges to radians\n",
        "y_val = np.sin(theta_rad)                       # take the sine of each angle\n",
        "\n",
        "for th,y in zip(theta_deg,y_val):               # print results\n",
        "    print(f\"sin({th:2.0f}) = {y:6.4f}\")"
      ],
      "metadata": {
        "id": "pZw1aXgg-PJd"
      },
      "execution_count": null,
      "outputs": []
    },
    {
      "cell_type": "markdown",
      "source": [
        "### ✅ Skill Check 3\n",
        "\n",
        "Vector components.\n",
        "* The following Code Cell has two NumPy arrays `vx` and `vy` that store the x and y components of 5 vectors.\n",
        "* Calculate the magnitude and direction (measured in degrees from the +x axis) for each of the 5 vectors.\n",
        "* Use \"vectorized\" operators in your calculation. In other words, don't use a for loop\n",
        "* print and label your results"
      ],
      "metadata": {
        "id": "f_oIy2rs9F6G"
      }
    },
    {
      "cell_type": "code",
      "source": [
        "vx = np.array([ 5.1, 4.0,  2.9, 0.1, 3.2])   # x measurements (meters)\n",
        "vy = np.array([-4.5, 1.6, -3.7, 4.2, 4.3])   # y measurements (meters)\n",
        "\n",
        "# Enter your code here\n"
      ],
      "metadata": {
        "id": "j_XXG7IU9F6H"
      },
      "execution_count": null,
      "outputs": []
    },
    {
      "cell_type": "markdown",
      "source": [
        "## **7.4 NumPy Statistics**\n",
        "\n",
        "NumPy arrays have both methods and attributes defined:\n",
        "* Methods are functions that are specific to a particular object (in this case NumPy arrays).\n",
        "* They are accessed by adding \".method_name()\" at the end of the NumPy array name. The parentheses are required\n",
        "* Attributes are properties of the array. They are accessed by adding \".attribute_name\" at the end of the NumPy array name. they do not take parentheses.\n",
        "* The following is a list of some of the more useful methods and attributes for numerical computation and physics:\n"
      ],
      "metadata": {
        "id": "2Pqek6vfFWg5"
      }
    },
    {
      "cell_type": "code",
      "source": [
        "A = np.array([1,9,2,8,3,7,4,6,5])\n",
        "\n",
        "##### Attributes do not take parentheses\n",
        "A.size        # number of elements\n",
        "A.dtype       # data type of the array\n",
        "\n",
        "##### Methods require parentheses\n",
        "A.sum()       # sum of the elements\n",
        "A.prod()      # product of the elements\n",
        "A.mean()      # mean of the elements\n",
        "A.std()       # standard deviation\n",
        "A.var()       # variance\n",
        "A.min()       # minimum value\n",
        "A.max()       # maximum value\n",
        "A.cumsum()    # cumulative sum (result will have same length as A)\n",
        "A.cumprod()   # cumulative product (result will have same length as A)"
      ],
      "metadata": {
        "id": "kuv2j1gUJVRy"
      },
      "execution_count": null,
      "outputs": []
    },
    {
      "cell_type": "markdown",
      "source": [
        "### 🔆 Example:  Array stats\n",
        "\n",
        "* Here's an example of the stats in action."
      ],
      "metadata": {
        "id": "QsUWKTnHK6fA"
      }
    },
    {
      "cell_type": "code",
      "source": [
        "A = np.array([1,9,2,8,3,7,4,6,5])\n",
        "\n",
        "N = A.size\n",
        "print(f\"A contains {N} elements\")\n",
        "\n",
        "A_mean = A.mean()\n",
        "A_std  = A.std()\n",
        "print(f\"The mean and standard deviation of A are {A_mean:.2f} ± {A_std:.2f}\")\n",
        "\n",
        "A_min = A.min()\n",
        "A_max = A.max()\n",
        "print(f\"The min and max values are {A_min:.2f} and {A_max:.2f}\")"
      ],
      "metadata": {
        "id": "oVXUQhcPLB_5"
      },
      "execution_count": null,
      "outputs": []
    },
    {
      "cell_type": "markdown",
      "source": [
        "### ✅ Skill Check 4\n",
        "\n",
        "The following Code Cell contains a NumPy array with multiple temperature readings of a liquid nitrogen cryostat (in K).  Calculate and display the following (with labels):\n",
        "* number of data points\n",
        "* mean and standard deviation\n",
        "* minimum and maximum temperature\n",
        "* peak-to-peak value of the temperature fluctuations (i.e. max-min)\n",
        "* the number of data points that lie outside the 1 sigma limit. In other words, temperatures > mean + 1 standard deviation\n"
      ],
      "metadata": {
        "id": "tGcY85uRGhd6"
      }
    },
    {
      "cell_type": "code",
      "source": [
        "T = np.array([ 77.1, 77.2, 77.0, 77.8, 77.1, 77.0, 77.9, 77.1])   # x measurements (meters)\n",
        "\n",
        "# Enter your code here\n"
      ],
      "metadata": {
        "id": "KHPEQMibG61I"
      },
      "execution_count": null,
      "outputs": []
    },
    {
      "cell_type": "markdown",
      "source": [
        "##**7.4 Creating NumPy arrays**"
      ],
      "metadata": {
        "id": "iUqlvDPEOWUy"
      }
    },
    {
      "cell_type": "markdown",
      "source": [
        "\n",
        "\n",
        "###**7.4.1 Use np.linspace() to generate N evenly spaced numbers**\n",
        "\n",
        "use **`.linspace()`** when you know the total **number** elements\n",
        "\n",
        "* `linspace` stands for \"linearly spaced\"\n",
        "* The `np.linspace(start, stop, N)` method creates an array with `N` elements equally spaced from `start` to  `stop`, **inclusive** (i.e. the stop value will be the last element of the array).\n",
        "* The following example creates an array filled with 10 numbers starting at 100 and going to 1000:\n"
      ],
      "metadata": {
        "id": "4J0h3yz2SDgu"
      }
    },
    {
      "cell_type": "code",
      "source": [
        "my_array = np.linspace(100,1000,10)\n",
        "print(\"my_array is\",my_array)"
      ],
      "metadata": {
        "id": "2heGdFx0Z55D"
      },
      "execution_count": null,
      "outputs": []
    },
    {
      "cell_type": "markdown",
      "source": [
        "* Notice that 1000 is included in the list as the last array element.\n"
      ],
      "metadata": {
        "id": "RluWMd2CO9kh"
      }
    },
    {
      "cell_type": "markdown",
      "source": [
        "### **7.4.2 Use np.arange() to generate evenly spaced numbers with a known spacing**\n",
        "\n",
        "* Sometimes, you don't know exactly how many data points you want, you just know their spacing. In this situation use `np.arange()`\n",
        "* `arange` stands for \"array range\". It's not a misspelling of \"arrange\" as in to \"arrange flowers\".\n",
        "* The `np.arange(start, stop, interval)` method creates an array with elements equally spaced from `start` to `stop` **exclusive** (i.e. the stop value will **not** be in the array) with spacing = `interval`.\n",
        "* The following example creates an array filled with evenly spaced numbers from 0 to 5 spaced by 0.5:"
      ],
      "metadata": {
        "id": "x-57Dkxif4o7"
      }
    },
    {
      "cell_type": "code",
      "source": [
        "my_array = np.arange(0,5.5,0.5)\n",
        "print(\"my_array is\",my_array)"
      ],
      "metadata": {
        "id": "bjNcTflOgXMg"
      },
      "execution_count": null,
      "outputs": []
    },
    {
      "cell_type": "markdown",
      "source": [
        "Notice that we had to set the `stop` value to 5.5 for the 5.0 value to be included in the list. In general the the `stop` value must be set to the desired max value + interval value, i.e. $5.0+0.5=5.5$ in this example."
      ],
      "metadata": {
        "id": "Yqq6HJ61ipXI"
      }
    },
    {
      "cell_type": "markdown",
      "source": [
        "###🔆 Example:  Falling rock\n",
        "\n",
        "A common application of `np.linspace()` and `np.arange()` is to create an array of evenly spaced time or space values.\n",
        "\n",
        "In this example, we calculate the distance a rock has fallen every 0.5 seconds up to a total of 3 seconds. The distance fallen is given by $d=\\frac{1}{2}g t^2$, where $g=9.8$ m/s$^2$.\n",
        "\n",
        "**Solution**\n",
        "* We use the the `np.arange()` method to create an array of times equally space by 0.5 seconds. We call this array `times`\n",
        "* Note:  we need to set the `stop` value in `np.arange(start,stop,step)` to 3.5 (instead of 3.0) since `np.arange()` goes up to but does not include the `stop` value\n",
        "* Next define a variable `g` to store the acceleration of gravity\n",
        "* We calculate the distance fallen at every time in the `times` array and store these values in a new array called `dist`.\n",
        "* Finally, we print the `times` and `dist` arrays to display our results"
      ],
      "metadata": {
        "id": "3SSBljd4absd"
      }
    },
    {
      "cell_type": "code",
      "source": [
        "times = np.arange(0,3.5,0.5)   # create equally spaced times every 0.5 seconds\n",
        "g = 9.8                        # acceleration of gravity\n",
        "dist = 0.5 * g * times**2      # calculate distance fallen for every time in times array\n",
        "\n",
        "for t,d in zip(times,dist):    # loop over the time and distance arrays to print them\n",
        "    print(f\"t = {t:3.1f} s    d = {d:5.2f} m\")\n"
      ],
      "metadata": {
        "id": "ukwafCaRa7u0"
      },
      "execution_count": null,
      "outputs": []
    },
    {
      "cell_type": "markdown",
      "source": [
        "We see that at time $t=0$, the rock hasn't moved, which gives us some confidence that our code is working at least for this simple case. At time $t=3$ s, the rock has fallen 44.1 meters."
      ],
      "metadata": {
        "id": "Dr_2wYdjchlV"
      }
    },
    {
      "cell_type": "markdown",
      "source": [
        "### ✅ Skill Check 5\n",
        "\n",
        "The international space station orbits the Earth approximately 400 km above the Earth's surface. Calculate the acceleration of gravity (g) every 100 km from the sea level up to the space station.\n",
        "* The acceleration of gravity is given by $g(h) = (9.8$ m/s$^2 )*R^2/(R+h)^2$, where $R = 6378$ km $=$ radius of the Earth and $h = $ altitude above the Earth (in km).\n",
        "* Use `np.arange()` to create an array to store the altitude $h$ values from 0, 100...  400 km.\n",
        "* print a nicely formatted list of the altitudes and the acceleration of gravity  in two columns."
      ],
      "metadata": {
        "id": "TagxKLx8Eamf"
      }
    },
    {
      "cell_type": "code",
      "source": [
        "# Enter your code here\n",
        "\n"
      ],
      "metadata": {
        "id": "bUV3saOSIj05"
      },
      "execution_count": null,
      "outputs": []
    },
    {
      "cell_type": "markdown",
      "source": [
        "### **7.4.3 Use np.zeros() or np.ones() to generate a uniform array filled with zeros or ones**\n",
        "\n",
        "* Because NumPy arrays cannot be extended after they are created, it is common to preallocate memory for the array using `np.zeros()` (see below)\n",
        "* The functions `np.zeros(N)` and `np.ones(N)` create an array of length N filled with zeros or ones respectively.\n",
        "* To create an array filled with any other number simply multiply `np.ones(N)` by that number."
      ],
      "metadata": {
        "id": "uqe-YoQND_q8"
      }
    },
    {
      "cell_type": "code",
      "source": [
        "A = np.zeros(5)     # create an NumPy array of length 5 filled with 0's\n",
        "print(\"A = \",A)\n",
        "\n",
        "B = np.ones(5)      # create an NumPy array of length 5 filled with 1's\n",
        "print(\"B = \",B)\n",
        "\n",
        "C = 9*np.ones(5)    # create an NumPy array of length 5 filled with 9's\n",
        "print(\"C = \",C)"
      ],
      "metadata": {
        "id": "y9C5kRzuKA5a"
      },
      "execution_count": null,
      "outputs": []
    },
    {
      "cell_type": "markdown",
      "source": [
        "### 🔆 Example\n",
        "\n",
        "Let's create a sequence of numbers where each element equals the square of the previous element. This is equivalent to repeatedly pressing the `^2` button on your calculator.\n",
        "* We'll start with the number 2 and calculate a total of 10 terms in the sequence\n",
        "* We preallocate our array using `np.zeros()` before starting our `for` loop to do the calculation"
      ],
      "metadata": {
        "id": "AR1QuMdIZgTZ"
      }
    },
    {
      "cell_type": "code",
      "source": [
        "N = 10                 # number of elements in our sequence (i.e. array)\n",
        "y0 = 2                 # initial number\n",
        "\n",
        "y = np.zeros(N)        # preallocate array to hold the sequence\n",
        "y[0] = y0              # set first number in the sequence\n",
        "\n",
        "for n in range(1,N):   # calculate next element in series based on previous element\n",
        "    y[n] = y[n-1]**2\n",
        "\n",
        "for n in range(N):     # print result\n",
        "    print(f\"{y[n]:.10g}\")\n"
      ],
      "metadata": {
        "id": "OpgIRADJae0M"
      },
      "execution_count": null,
      "outputs": []
    },
    {
      "cell_type": "markdown",
      "source": [
        "* This series gets large fast!\n",
        "* You might try and rerun it to include 11 terms instead of 10. If you do, you'll find that the next number in the series exceeds Python's limits and you'll get an error 😳. The largest number standard NumPy floats can handle is around $1.8\\times 10^{308}$."
      ],
      "metadata": {
        "id": "PPnvp8I_djvj"
      }
    },
    {
      "cell_type": "markdown",
      "source": [
        "### ✅ Skill Check 6\n",
        "\n",
        "Back in Chapter 5, you wrote some code to produce the Fibonacci sequence using lists. In this Skill Check, you will rewrite your code using a NumPy array.\n",
        "* Because NumPy arrays cannot be extended using the `append()` command, you'll need to preallocate an array to store the sequence.\n",
        "* Write some code to produce the first 15 terms of the Fibonacci sequence:  0, 1, 1, 2, 3, 5, 8...\n",
        "* The Fibonacci sequence is defined as $x_n=x_{n-1} + x_{n-2}$, i.e. each term is the sum of the previous two terms.\n",
        "* Initialize your array with the first two terms in the series: `[0,1]`\n",
        "* Print your list when you are done\n"
      ],
      "metadata": {
        "id": "JVILlV1uzlA5"
      }
    },
    {
      "cell_type": "code",
      "source": [
        "# Enter your code here\n"
      ],
      "metadata": {
        "id": "NHqwULM28R_P"
      },
      "execution_count": null,
      "outputs": []
    },
    {
      "cell_type": "markdown",
      "source": [
        "### **7.4.4 Create NumPy arrays filled with random numbers**\n",
        "\n",
        "* The NumPy library has its own functions to generate arrays of random numbers,\n",
        "* In order to use these random number generators, an \"instance\" of the random number generator ogject must first be created (more on object-oriented programming in a future chapter). T do this we use the command:\n",
        "```rng = np.random.default_rng()```\n",
        "* Once the `rng` object is created, we can use it to produce a variety of random arrays\n",
        "* Here are some examples:"
      ],
      "metadata": {
        "id": "DZfcn9U3fWw3"
      }
    },
    {
      "cell_type": "code",
      "source": [
        "import numpy as np\n",
        "\n",
        "rng = np.random.default_rng()        # create random number Generator\n",
        "N = 5                                # size of random array\n",
        "\n",
        "# Create array of random integers between 0 <= z < 10\n",
        "z = rng.integers(0, 10, size=N)\n",
        "print(\"random integers:       \",z)\n",
        "print()\n",
        "\n",
        "# Create array of random integers between 0 <= z <= 10 (includes 10 endpoint)\n",
        "z = rng.integers(0, 10, size=N, endpoint=True)\n",
        "print(\"random integers (v2):  \",z)\n",
        "print()\n",
        "\n",
        "# Create array of random numbers drawn from Gaussian distribution with mean 0 and sdev = 1\n",
        "z = rng.normal(size=N)\n",
        "print(\"Gaussian distribution: \",z)\n",
        "print()\n",
        "\n",
        "# Create array of random numbers drawn from a uniform distribution with 1 <= z < 2\n",
        "z = rng.uniform(1,2, size=N)\n",
        "print(\"Uniform distribution:  \",z)\n",
        "print()\n",
        "\n",
        "# Choose a random sampling from a list or array of items\n",
        "my_list = ['red', 'green', 'blue']\n",
        "z = rng.choice(my_list, size=N)\n",
        "print(\"Uniform Sampling:      \",z)\n",
        "print()\n",
        "\n",
        "# Choose 5 random numbers from 0-9, with no duplicates\n",
        "z = rng.choice(10,size=5,replace=False)\n",
        "print(\"No duplicates:         \",z)\n",
        "\n"
      ],
      "metadata": {
        "id": "20nLAgIypxD1"
      },
      "execution_count": null,
      "outputs": []
    },
    {
      "cell_type": "markdown",
      "source": [
        "* The `rng` object can be used to produce random number sequences drawn from many more distributions as well. See the documentation or your favorite AI tool for more info."
      ],
      "metadata": {
        "id": "0A9xUy0Fs6PM"
      }
    },
    {
      "cell_type": "markdown",
      "source": [
        "### ✅ Skill Check 7\n",
        "\n",
        "Use the random choice number generator to draw 5 unique random cards from a 52-card card deck and display them.\n",
        "* The following code uses a Python Dictionary to translate a given number (0-3) into the card's suit\n",
        "* It uses a second dictionary to translate a second number (0-12) to the card's face value (2-Ace)\n",
        "* We haven't talked about dictionaries yet, but the example shows you how to use them\n",
        "\n",
        "Run the following code to see how it works. It defines numbers representing the suit and face value of a card, uses the dictionaries to translate them to actual face value and suit, and prints the result.\n",
        "\n",
        "* Adapt this code to display 5 unique cards drawn from a deck\n",
        "* Use the following trick:  first generate a single number between 1-52, and then use that number to assign the card's face value and suit.\n",
        "* Hint:  you might consider using the `%` and `//` operators.\n",
        "* Print the 5 cards following the example code.\n",
        "\n"
      ],
      "metadata": {
        "id": "La1y6Ag-TB6_"
      }
    },
    {
      "cell_type": "code",
      "source": [
        "# Dictionary defining suit\n",
        "# example:  0 is clubs, 1 is diamonds, etc\n",
        "suit_lookup = {\n",
        "    0:\"♣️\",\n",
        "    1:\"♦️\",\n",
        "    2:\"❤️\",\n",
        "    3:\"♠️\"\n",
        "}\n",
        "\n",
        "# dictionary defining face value\n",
        "# example:  0 has face value 2, 1 has face value 3,... 11 is a king, 12 is an Ace\n",
        "card_lookup = {\n",
        "    0:\" 2\",\n",
        "    1:\" 3\",\n",
        "    2:\" 4\",\n",
        "    3:\" 5\",\n",
        "    4:\" 6\",\n",
        "    5:\" 7\",\n",
        "    6:\" 8\",\n",
        "    7:\" 9\",\n",
        "    8:\"10\",\n",
        "    9:\" J\",\n",
        "    10:\" Q\",\n",
        "    11:\" K\",\n",
        "    12:\" A\"\n",
        "}\n",
        "\n",
        "# suit is a number between 0-3\n",
        "suit = 2\n",
        "# face value is a number between 0-12\n",
        "face_value = 12\n",
        "\n",
        "my_card = card_lookup[face_value] + suit_lookup[suit]\n",
        "\n",
        "print(\"my card is \",my_card)"
      ],
      "metadata": {
        "id": "E7a348Z6UYXo"
      },
      "execution_count": null,
      "outputs": []
    },
    {
      "cell_type": "markdown",
      "source": [
        "## **7.5 Logical Indexing**\n",
        "\n",
        "logical indexing (also called boolean indexing) is one of NumPy’s most powerful features. It lets you select elements from an array using conditions rather than explicit indices.\n",
        "\n"
      ],
      "metadata": {
        "id": "rzV74eSprw7H"
      }
    },
    {
      "cell_type": "markdown",
      "source": [
        "### 7.5.1 Using a mask to select array elements\n",
        "\n",
        "* To select array elements based on their value, specify a condition inside the square brackets like this:  `A[A>50]`. This will select only those values > 50"
      ],
      "metadata": {
        "id": "x6UR10Z1BtJd"
      }
    },
    {
      "cell_type": "code",
      "source": [
        "# Create an array of squares from 1 to 100\n",
        "A = np.linspace(1,10,10)**2\n",
        "print(\"A = \",A)\n",
        "\n",
        "# select only the array elements > 50\n",
        "A_sample = A[A>50]\n",
        "\n",
        "print()\n",
        "print(\"A values > 50\", A_sample)\n",
        "\n"
      ],
      "metadata": {
        "id": "rGBZEbQECBT7"
      },
      "execution_count": null,
      "outputs": []
    },
    {
      "cell_type": "markdown",
      "source": [
        "### 🔆 Example:  Use a mask with multiple arrays\n",
        "\n",
        "* You can use a mask to select elements from multiple arrays if the arrays"
      ],
      "metadata": {
        "id": "WOwuU0oQbHlp"
      }
    },
    {
      "cell_type": "code",
      "source": [
        "# Create an array of squares from 1 to 10^2\n",
        "A = np.linspace(1,10,10)**2\n",
        "print(\"A = \",A)\n",
        "\n",
        "# Create an array of cubes from 1 to 10^3\n",
        "B = np.linspace(1,10,10)**3\n",
        "print(\"B = \",B)\n",
        "\n",
        "mask = A > 50    # list of indices where array A is > 50\n",
        "\n",
        "print(\"A values where A > 50\", A[mask])\n",
        "print(\"B values where A > 50\", B[mask])"
      ],
      "metadata": {
        "id": "O5aShD0zbheG"
      },
      "execution_count": null,
      "outputs": []
    },
    {
      "cell_type": "markdown",
      "source": [
        "### 7.5.2 Using a mask with multiple conditions\n",
        "\n",
        "To combine multiple conditions in the mask, we must use \"bit-wise\" operators:\n",
        "* `&` is bit-wise \"and\"\n",
        "* `|` is bit-wise \"or\""
      ],
      "metadata": {
        "id": "SW7GnyUzcyGf"
      }
    },
    {
      "cell_type": "code",
      "source": [
        "# select the array elements with values > 10 and < 50\n",
        "A_sample = A[(A>10) & (A<50)]\n",
        "\n",
        "print(\"A values > 10 and < 50:  \", A_sample)"
      ],
      "metadata": {
        "id": "NoIBVsHPdM9-"
      },
      "execution_count": null,
      "outputs": []
    },
    {
      "cell_type": "markdown",
      "source": [
        "### 7.5.3 Use logical indexing to assign values in an array\n",
        "\n",
        "* The following example replaces all negative values in an array with zeros"
      ],
      "metadata": {
        "id": "aTgXkwdVfgEf"
      }
    },
    {
      "cell_type": "code",
      "source": [
        "A = np.array([1,3,-1,3,9,-2,3,5])\n",
        "print(\"A before:  \",A)\n",
        "\n",
        "A[A<0] = 0\n",
        "print(\"A after:   \",A)"
      ],
      "metadata": {
        "id": "6sd6wj8FgUuI"
      },
      "execution_count": null,
      "outputs": []
    },
    {
      "cell_type": "markdown",
      "source": [
        "### 7.5.4 Use `where()` to assign elements based on a condition\n",
        "\n",
        "The statement `np.where(condition, x, y)` returns an array choosing elements from `x` where `condition` is True and frpm `y` where `condition` is False.\n",
        "\n",
        "* The following example replaces all positive numbers in an array with +1 and all negative numbers with -1\n"
      ],
      "metadata": {
        "id": "xbLfryLJfyMS"
      }
    },
    {
      "cell_type": "code",
      "source": [
        "A = np.array([1, -2, -3, 4, 5])\n",
        "\n",
        "result = np.where(A > 0, 1, -1)\n",
        "\n",
        "print(\"A      = \",A)\n",
        "print(\"result = \",result)"
      ],
      "metadata": {
        "id": "CAZzpN1Me_Nb"
      },
      "execution_count": null,
      "outputs": []
    },
    {
      "cell_type": "markdown",
      "source": [
        "### ✅ Skill Check 8\n",
        "\n",
        "The following Code Cell contains an array of `x` values. Missing data points have been set to 999.\n",
        "* Write a single line of code using logical indexing to replace all 999 values with 0's\n"
      ],
      "metadata": {
        "id": "NxZerGEKFL0e"
      }
    },
    {
      "cell_type": "code",
      "source": [
        "x = np.array([1,2,3,999,5,6,7,999])\n",
        "\n",
        "# Enter your code here\n"
      ],
      "metadata": {
        "id": "Pqj4Y-1xmrnB"
      },
      "execution_count": null,
      "outputs": []
    },
    {
      "cell_type": "markdown",
      "source": [
        "### ✅ Skill Check 9\n",
        "\n",
        "Flipping a coin\n",
        "* Use the NumPy random number generator to simulate a series of coin flips.\n",
        "* Define the total number of coin flips as `N`. Set `N` to some value, say 10.\n",
        "* Use the `rng.integers()` function described above to produce an array of N random integers. You could use 1 for heads and 2 for tails, or whatever you choose.\n",
        "* Use logical indexing to count the number of heads and calculate the fraction compared with the total number of coin flips. Express your result as a percentage.\n",
        "* Calculate the percent error compared to a perfectly \"fair\" coin that produces heads 50% of the time:   $err=|(percent-50)/50|\\times 100%$\n",
        "* Print the number of flips `N`, the number of heads and the percent error on a single line.\n",
        "\n",
        "\n"
      ],
      "metadata": {
        "id": "o13qshwhFybF"
      }
    },
    {
      "cell_type": "code",
      "source": [
        "# Enter your code here\n",
        "\n",
        "\n"
      ],
      "metadata": {
        "id": "K-Yh1AjO8aNw"
      },
      "execution_count": null,
      "outputs": []
    },
    {
      "cell_type": "markdown",
      "source": [
        "### ✅ Skill Check 10\n",
        "\n",
        "Modify your coin flip code as follows:\n",
        "\n",
        "* Copy and paste your code in the Code Cell below.\n",
        "* Place your code in a `for` loop for the following number of flips:  $10$, $10^2$, $10^3$, $10^4$, $10^5$, $10^6$.\n",
        "* When counting random events, the counting error is the expected variation due to random statistics. The random variation is expected to be around $\\sqrt{N}$, the corresponding relative error is $(\\sqrt{N})/N = 1/\\sqrt{N}$ and the percent error is $100 /\\sqrt{N}$.\n",
        "* Print the statistical percent counting error on the same line as the other info\n",
        "* Create nicely formatted columns and label the columns (i.e. have a print statement before the for loop)\n",
        "* Run your code a few times and observe how the percent errors vary. Your simulated coin flips should fluctuate around the expected percent counting error. Do they?\n"
      ],
      "metadata": {
        "id": "TsSnvoFiLCty"
      }
    },
    {
      "cell_type": "code",
      "source": [
        "# Enter your code here\n",
        "\n"
      ],
      "metadata": {
        "id": "PeyAp4a_QOpa"
      },
      "execution_count": null,
      "outputs": []
    },
    {
      "cell_type": "markdown",
      "source": [
        "## Key Points\n",
        "* NumPy arrays are similar to Python Lists, but they are faster and have  lots of built-in mathematical functions\n",
        "* The `np.array()` function converts a list to a NumPy array\n",
        "* Like Python lists, elements of NumPy arrays are accessed and sliced using square brackets\n",
        "* Basic operations on NumPy arrays are applied to all elements of the array, making them ideal for processing large datasets\n",
        "* NumPy arrays can be used like normal (scalar) variables in equations\n",
        "* A variety of functions are available to create evenly spaced data points, uniform distributions and random number sequences\n",
        "* Logical indexing can be used to select array elements based on their value. It can also be used to reassign the values of elements."
      ],
      "metadata": {
        "id": "1UCqSGwQYh3_"
      }
    },
    {
      "cell_type": "markdown",
      "source": [
        "This tutorial is an adaptation of \"[Python for Physicists](https://lucydot.github.io/python_novice/)\"\n",
        "© [Software Carpentry](http://software-carpentry.org/)\n"
      ],
      "metadata": {
        "id": "5pnXdFvAhvCZ"
      }
    }
  ]
}